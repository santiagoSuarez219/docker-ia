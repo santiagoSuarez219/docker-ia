{
 "cells": [
  {
   "cell_type": "code",
   "execution_count": 1,
   "metadata": {},
   "outputs": [
    {
     "ename": "ModuleNotFoundError",
     "evalue": "No module named 'numpy'",
     "output_type": "error",
     "traceback": [
      "\u001b[31m---------------------------------------------------------------------------\u001b[39m",
      "\u001b[31mModuleNotFoundError\u001b[39m                       Traceback (most recent call last)",
      "\u001b[36mCell\u001b[39m\u001b[36m \u001b[39m\u001b[32mIn[1]\u001b[39m\u001b[32m, line 2\u001b[39m\n\u001b[32m      1\u001b[39m \u001b[38;5;28;01mimport\u001b[39;00m\u001b[38;5;250m \u001b[39m\u001b[34;01mos\u001b[39;00m\n\u001b[32m----> \u001b[39m\u001b[32m2\u001b[39m \u001b[38;5;28;01mimport\u001b[39;00m\u001b[38;5;250m \u001b[39m\u001b[34;01mnumpy\u001b[39;00m\u001b[38;5;250m \u001b[39m\u001b[38;5;28;01mas\u001b[39;00m\u001b[38;5;250m \u001b[39m\u001b[34;01mnp\u001b[39;00m\n\u001b[32m      3\u001b[39m \u001b[38;5;28;01mimport\u001b[39;00m\u001b[38;5;250m \u001b[39m\u001b[34;01mpandas\u001b[39;00m\u001b[38;5;250m \u001b[39m\u001b[38;5;28;01mas\u001b[39;00m\u001b[38;5;250m \u001b[39m\u001b[34;01mpd\u001b[39;00m\n\u001b[32m      4\u001b[39m \u001b[38;5;66;03m# import seaborn as sns\u001b[39;00m\n",
      "\u001b[31mModuleNotFoundError\u001b[39m: No module named 'numpy'"
     ]
    }
   ],
   "source": [
    "import os\n",
    "import numpy as np\n",
    "import pandas as pd\n",
    "# import seaborn as sns\n",
    "import matplotlib.pyplot as plt\n",
    "\n",
    "import tensorflow as tf\n",
    "from tensorflow.keras.preprocessing import image_dataset_from_directory\n",
    "from tensorflow.keras.preprocessing.image import ImageDataGenerator\n",
    "from tensorflow.keras.callbacks import EarlyStopping, ModelCheckpoint, ReduceLROnPlateau\n",
    "from tensorflow.keras.applications import MobileNetV2\n",
    "from tensorflow.keras import layers, models"
   ]
  },
  {
   "cell_type": "code",
   "execution_count": 2,
   "metadata": {},
   "outputs": [],
   "source": [
    "# Dataset: https://www.kaggle.com/datasets/kritikseth/fruit-and-vegetable-image-recognition\n",
    "\n",
    "base_dir = './'\n",
    "img_size = (224, 224)\n",
    "batch_size = 32"
   ]
  },
  {
   "cell_type": "code",
   "execution_count": 3,
   "metadata": {},
   "outputs": [],
   "source": [
    "train_dir = os.path.join(base_dir, 'train')\n",
    "validation_dir = os.path.join(base_dir, 'validation')\n",
    "test_dir = os.path.join(base_dir, 'test')"
   ]
  },
  {
   "cell_type": "code",
   "execution_count": 4,
   "metadata": {},
   "outputs": [],
   "source": [
    "def num_of_classes(folder_dir, folder_name) :\n",
    "    classes = [class_name for class_name in os.listdir(train_dir)]\n",
    "    print(f'number of classes in {folder_name} folder : {len(classes)}')"
   ]
  },
  {
   "cell_type": "code",
   "execution_count": 5,
   "metadata": {},
   "outputs": [
    {
     "name": "stdout",
     "output_type": "stream",
     "text": [
      "number of classes in train folder : 36\n",
      "number of classes in validation folder : 36\n",
      "number of classes in test folder : 36\n"
     ]
    }
   ],
   "source": [
    "num_of_classes(train_dir, 'train')\n",
    "num_of_classes(validation_dir, 'validation')\n",
    "num_of_classes(test_dir, 'test')"
   ]
  },
  {
   "cell_type": "code",
   "execution_count": 6,
   "metadata": {},
   "outputs": [],
   "source": [
    "classes = [class_name for class_name in os.listdir(train_dir)]\n",
    "def create_df(folder_path) :\n",
    "    all_images = []    \n",
    "    for class_name in classes :\n",
    "        class_path = os.path.join(folder_path, class_name)\n",
    "        all_images.extend([(os.path.join(class_path, file_name), class_name) for file_name in os.listdir(class_path)])\n",
    "    df = pd.DataFrame(all_images, columns=['file_path', 'label'])\n",
    "    return df"
   ]
  },
  {
   "cell_type": "code",
   "execution_count": 7,
   "metadata": {},
   "outputs": [],
   "source": [
    "train_df = create_df(train_dir)\n",
    "validation_df = create_df(validation_dir)\n",
    "test_df = create_df(test_dir)"
   ]
  },
  {
   "cell_type": "code",
   "execution_count": 8,
   "metadata": {},
   "outputs": [
    {
     "name": "stdout",
     "output_type": "stream",
     "text": [
      "Found 3115 validated image filenames belonging to 36 classes.\n"
     ]
    }
   ],
   "source": [
    "# Train generator\n",
    "\n",
    "train_datagen = ImageDataGenerator(\n",
    "    rescale=1./255,                 # Scaled images in range 0 to 1\n",
    "    rotation_range=20,              # Rorate images by factor 20 degree\n",
    "    width_shift_range=0.2,          # Shift images horizontally by up to 20% of their width\n",
    "    height_shift_range=0.2,         # Shift images vertically by up to 20% of their width\n",
    "    zoom_range=0.1,                 # Zoom in and out images by 10%\n",
    "    horizontal_flip=True,           # Allow horizontal flipping\n",
    "    shear_range=0.1,                # shear images by 10% their size\n",
    "    fill_mode='nearest',            # fill unlocated pixels by nearest pixel\n",
    "    )\n",
    "\n",
    "train_generator = train_datagen.flow_from_dataframe(\n",
    "    dataframe=train_df,             # Target data\n",
    "    x_col='file_path',              # X column\n",
    "    y_col='label',                  # y column\n",
    "    target_size=(224, 224),         # Resize images  to\n",
    "    color_mode='rgb',               # Color mode\n",
    "    class_mode='categorical',       # type of model\n",
    "    batch_size=32,                  \n",
    "    shuffle=True,\n",
    "    seed=42,\n",
    "    \n",
    ")"
   ]
  },
  {
   "cell_type": "code",
   "execution_count": 9,
   "metadata": {},
   "outputs": [
    {
     "name": "stdout",
     "output_type": "stream",
     "text": [
      "Found 351 validated image filenames belonging to 36 classes.\n"
     ]
    }
   ],
   "source": [
    "# validation generator\n",
    "\n",
    "validation_datagen = ImageDataGenerator(rescale=1./255,)\n",
    "\n",
    "validation_generator = validation_datagen.flow_from_dataframe(\n",
    "    dataframe=validation_df,\n",
    "    x_col='file_path',\n",
    "    y_col='label',\n",
    "    target_size=(224, 224),\n",
    "    class_mode='categorical',\n",
    "    batch_size=32,\n",
    "    seed=42,\n",
    "    shuffle=False\n",
    ")"
   ]
  },
  {
   "cell_type": "code",
   "execution_count": 10,
   "metadata": {},
   "outputs": [
    {
     "name": "stdout",
     "output_type": "stream",
     "text": [
      "Found 359 validated image filenames belonging to 36 classes.\n"
     ]
    }
   ],
   "source": [
    "# Test generator\n",
    "\n",
    "test_datagen = ImageDataGenerator(rescale=1./255,)\n",
    "\n",
    "test_generator = test_datagen.flow_from_dataframe(\n",
    "    dataframe=test_df,\n",
    "    x_col='file_path',\n",
    "    y_col='label',\n",
    "    target_size=(224, 224),\n",
    "    class_mode='categorical',\n",
    "    batch_size=32,\n",
    "    seed=42,\n",
    "    shuffle=False\n",
    ")"
   ]
  },
  {
   "cell_type": "code",
   "execution_count": 11,
   "metadata": {},
   "outputs": [
    {
     "name": "stderr",
     "output_type": "stream",
     "text": [
      "I0000 00:00:1731961726.184292  110522 gpu_device.cc:2022] Created device /job:localhost/replica:0/task:0/device:GPU:0 with 10061 MB memory:  -> device: 0, name: NVIDIA GeForce GTX 1080 Ti, pci bus id: 0000:04:00.0, compute capability: 6.1\n"
     ]
    }
   ],
   "source": [
    "base_model = MobileNetV2(input_shape=(224, 224, 3), include_top=False, weights=\"imagenet\")\n",
    "base_model.trainable = False  # Congela el modelo base"
   ]
  },
  {
   "cell_type": "code",
   "execution_count": 12,
   "metadata": {},
   "outputs": [],
   "source": [
    "model = models.Sequential()\n",
    "model.add(base_model)\n",
    "model.add(layers.Flatten())\n",
    "model.add(layers.Dense(256, activation='relu'))\n",
    "model.add(layers.Dense(128, activation='relu'))\n",
    "model.add(layers.Dense(36, activation='softmax'))"
   ]
  },
  {
   "cell_type": "code",
   "execution_count": 13,
   "metadata": {},
   "outputs": [],
   "source": [
    "from tensorflow.keras import optimizers"
   ]
  },
  {
   "cell_type": "code",
   "execution_count": 14,
   "metadata": {},
   "outputs": [],
   "source": [
    "model.compile(optimizer=optimizers.Adam(learning_rate=0.001),\n",
    "             loss='categorical_crossentropy', \n",
    "             metrics=['accuracy'])"
   ]
  },
  {
   "cell_type": "code",
   "execution_count": 15,
   "metadata": {},
   "outputs": [],
   "source": [
    "# Model CheckPoint\n",
    "checkpoint_cb = ModelCheckpoint('MyModel.keras', save_best_only=True) \n",
    "\n",
    "# Early Stoping\n",
    "earlystop_cb = EarlyStopping(patience=10, restore_best_weights=True)\n",
    "\n",
    "# ReduceLROnPlateau\n",
    "reduce_lr = ReduceLROnPlateau(monitor='val_loss', factor=0.5, patience=3, min_lr=1e-6)"
   ]
  },
  {
   "cell_type": "code",
   "execution_count": 16,
   "metadata": {},
   "outputs": [
    {
     "name": "stderr",
     "output_type": "stream",
     "text": [
      "/home/labmirp/Santiago/env/lib/python3.11/site-packages/keras/src/trainers/data_adapters/py_dataset_adapter.py:121: UserWarning: Your `PyDataset` class should call `super().__init__(**kwargs)` in its constructor. `**kwargs` can include `workers`, `use_multiprocessing`, `max_queue_size`. Do not pass these arguments to `fit()`, as they will be ignored.\n",
      "  self._warn_if_super_not_called()\n"
     ]
    },
    {
     "name": "stdout",
     "output_type": "stream",
     "text": [
      "Epoch 1/50\n"
     ]
    },
    {
     "name": "stderr",
     "output_type": "stream",
     "text": [
      "WARNING: All log messages before absl::InitializeLog() is called are written to STDERR\n",
      "I0000 00:00:1731961734.624707  110646 service.cc:148] XLA service 0x7d5b98041910 initialized for platform CUDA (this does not guarantee that XLA will be used). Devices:\n",
      "I0000 00:00:1731961734.624731  110646 service.cc:156]   StreamExecutor device (0): NVIDIA GeForce GTX 1080 Ti, Compute Capability 6.1\n",
      "2024-11-18 15:28:54.734320: I tensorflow/compiler/mlir/tensorflow/utils/dump_mlir_util.cc:268] disabling MLIR crash reproducer, set env var `MLIR_CRASH_REPRODUCER_DIRECTORY` to enable.\n",
      "I0000 00:00:1731961735.443520  110646 cuda_dnn.cc:529] Loaded cuDNN version 90300\n",
      "2024-11-18 15:28:57.342518: W external/local_xla/xla/service/gpu/nvptx_compiler.cc:930] The NVIDIA driver's CUDA version is 12.2 which is older than the PTX compiler version 12.5.82. Because the driver is older than the PTX compiler version, XLA is disabling parallel compilation, which may slow down compilation. You should update your NVIDIA driver or use the NVIDIA-provided CUDA forward compatibility packages.\n"
     ]
    },
    {
     "name": "stdout",
     "output_type": "stream",
     "text": [
      "\u001b[1m 1/98\u001b[0m \u001b[37m━━━━━━━━━━━━━━━━━━━━\u001b[0m \u001b[1m14:22\u001b[0m 9s/step - accuracy: 0.0000e+00 - loss: 4.3096"
     ]
    },
    {
     "name": "stderr",
     "output_type": "stream",
     "text": [
      "I0000 00:00:1731961738.645152  110646 device_compiler.h:188] Compiled cluster using XLA!  This line is logged at most once for the lifetime of the process.\n"
     ]
    },
    {
     "name": "stdout",
     "output_type": "stream",
     "text": [
      "\u001b[1m 7/98\u001b[0m \u001b[32m━\u001b[0m\u001b[37m━━━━━━━━━━━━━━━━━━━\u001b[0m \u001b[1m2:03\u001b[0m 1s/step - accuracy: 0.0669 - loss: 12.0811"
     ]
    },
    {
     "name": "stderr",
     "output_type": "stream",
     "text": [
      "/home/labmirp/Santiago/env/lib/python3.11/site-packages/PIL/Image.py:1054: UserWarning: Palette images with Transparency expressed in bytes should be converted to RGBA images\n",
      "  warnings.warn(\n"
     ]
    },
    {
     "name": "stdout",
     "output_type": "stream",
     "text": [
      "\u001b[1m98/98\u001b[0m \u001b[32m━━━━━━━━━━━━━━━━━━━━\u001b[0m\u001b[37m\u001b[0m \u001b[1m0s\u001b[0m 949ms/step - accuracy: 0.3008 - loss: 6.5223"
     ]
    },
    {
     "name": "stderr",
     "output_type": "stream",
     "text": [
      "/home/labmirp/Santiago/env/lib/python3.11/site-packages/keras/src/trainers/data_adapters/py_dataset_adapter.py:121: UserWarning: Your `PyDataset` class should call `super().__init__(**kwargs)` in its constructor. `**kwargs` can include `workers`, `use_multiprocessing`, `max_queue_size`. Do not pass these arguments to `fit()`, as they will be ignored.\n",
      "  self._warn_if_super_not_called()\n"
     ]
    },
    {
     "name": "stdout",
     "output_type": "stream",
     "text": [
      "\u001b[1m98/98\u001b[0m \u001b[32m━━━━━━━━━━━━━━━━━━━━\u001b[0m\u001b[37m\u001b[0m \u001b[1m119s\u001b[0m 1s/step - accuracy: 0.3022 - loss: 6.4918 - val_accuracy: 0.7835 - val_loss: 0.6977 - learning_rate: 0.0010\n",
      "Epoch 2/50\n",
      "\u001b[1m98/98\u001b[0m \u001b[32m━━━━━━━━━━━━━━━━━━━━\u001b[0m\u001b[37m\u001b[0m \u001b[1m113s\u001b[0m 1s/step - accuracy: 0.6700 - loss: 1.2217 - val_accuracy: 0.8689 - val_loss: 0.4494 - learning_rate: 0.0010\n",
      "Epoch 3/50\n",
      "\u001b[1m98/98\u001b[0m \u001b[32m━━━━━━━━━━━━━━━━━━━━\u001b[0m\u001b[37m\u001b[0m \u001b[1m99s\u001b[0m 1s/step - accuracy: 0.7346 - loss: 0.9096 - val_accuracy: 0.9117 - val_loss: 0.3228 - learning_rate: 0.0010\n",
      "Epoch 4/50\n",
      "\u001b[1m98/98\u001b[0m \u001b[32m━━━━━━━━━━━━━━━━━━━━\u001b[0m\u001b[37m\u001b[0m \u001b[1m96s\u001b[0m 977ms/step - accuracy: 0.7664 - loss: 0.7922 - val_accuracy: 0.9088 - val_loss: 0.2545 - learning_rate: 0.0010\n",
      "Epoch 5/50\n",
      "\u001b[1m98/98\u001b[0m \u001b[32m━━━━━━━━━━━━━━━━━━━━\u001b[0m\u001b[37m\u001b[0m \u001b[1m96s\u001b[0m 983ms/step - accuracy: 0.8175 - loss: 0.6086 - val_accuracy: 0.8746 - val_loss: 0.3593 - learning_rate: 0.0010\n",
      "Epoch 6/50\n",
      "\u001b[1m98/98\u001b[0m \u001b[32m━━━━━━━━━━━━━━━━━━━━\u001b[0m\u001b[37m\u001b[0m \u001b[1m97s\u001b[0m 995ms/step - accuracy: 0.8172 - loss: 0.5690 - val_accuracy: 0.9259 - val_loss: 0.2378 - learning_rate: 0.0010\n",
      "Epoch 7/50\n",
      "\u001b[1m98/98\u001b[0m \u001b[32m━━━━━━━━━━━━━━━━━━━━\u001b[0m\u001b[37m\u001b[0m \u001b[1m95s\u001b[0m 965ms/step - accuracy: 0.8186 - loss: 0.5620 - val_accuracy: 0.8946 - val_loss: 0.3796 - learning_rate: 0.0010\n",
      "Epoch 8/50\n",
      "\u001b[1m98/98\u001b[0m \u001b[32m━━━━━━━━━━━━━━━━━━━━\u001b[0m\u001b[37m\u001b[0m \u001b[1m95s\u001b[0m 969ms/step - accuracy: 0.8489 - loss: 0.4415 - val_accuracy: 0.9060 - val_loss: 0.2971 - learning_rate: 0.0010\n",
      "Epoch 9/50\n",
      "\u001b[1m98/98\u001b[0m \u001b[32m━━━━━━━━━━━━━━━━━━━━\u001b[0m\u001b[37m\u001b[0m \u001b[1m95s\u001b[0m 970ms/step - accuracy: 0.8890 - loss: 0.3956 - val_accuracy: 0.9145 - val_loss: 0.2630 - learning_rate: 0.0010\n",
      "Epoch 10/50\n",
      "\u001b[1m98/98\u001b[0m \u001b[32m━━━━━━━━━━━━━━━━━━━━\u001b[0m\u001b[37m\u001b[0m \u001b[1m95s\u001b[0m 974ms/step - accuracy: 0.8877 - loss: 0.3513 - val_accuracy: 0.9345 - val_loss: 0.2390 - learning_rate: 5.0000e-04\n",
      "Epoch 11/50\n",
      "\u001b[1m98/98\u001b[0m \u001b[32m━━━━━━━━━━━━━━━━━━━━\u001b[0m\u001b[37m\u001b[0m \u001b[1m96s\u001b[0m 983ms/step - accuracy: 0.9196 - loss: 0.2501 - val_accuracy: 0.9316 - val_loss: 0.2186 - learning_rate: 5.0000e-04\n",
      "Epoch 12/50\n",
      "\u001b[1m98/98\u001b[0m \u001b[32m━━━━━━━━━━━━━━━━━━━━\u001b[0m\u001b[37m\u001b[0m \u001b[1m94s\u001b[0m 957ms/step - accuracy: 0.9291 - loss: 0.1912 - val_accuracy: 0.9402 - val_loss: 0.2206 - learning_rate: 5.0000e-04\n",
      "Epoch 13/50\n",
      "\u001b[1m98/98\u001b[0m \u001b[32m━━━━━━━━━━━━━━━━━━━━\u001b[0m\u001b[37m\u001b[0m \u001b[1m97s\u001b[0m 986ms/step - accuracy: 0.9291 - loss: 0.2165 - val_accuracy: 0.9487 - val_loss: 0.1905 - learning_rate: 5.0000e-04\n",
      "Epoch 14/50\n",
      "\u001b[1m98/98\u001b[0m \u001b[32m━━━━━━━━━━━━━━━━━━━━\u001b[0m\u001b[37m\u001b[0m \u001b[1m95s\u001b[0m 973ms/step - accuracy: 0.9413 - loss: 0.1653 - val_accuracy: 0.9345 - val_loss: 0.2362 - learning_rate: 5.0000e-04\n",
      "Epoch 15/50\n",
      "\u001b[1m98/98\u001b[0m \u001b[32m━━━━━━━━━━━━━━━━━━━━\u001b[0m\u001b[37m\u001b[0m \u001b[1m95s\u001b[0m 973ms/step - accuracy: 0.9388 - loss: 0.1864 - val_accuracy: 0.9430 - val_loss: 0.2180 - learning_rate: 5.0000e-04\n",
      "Epoch 16/50\n",
      "\u001b[1m98/98\u001b[0m \u001b[32m━━━━━━━━━━━━━━━━━━━━\u001b[0m\u001b[37m\u001b[0m \u001b[1m94s\u001b[0m 963ms/step - accuracy: 0.9373 - loss: 0.1878 - val_accuracy: 0.9459 - val_loss: 0.1997 - learning_rate: 5.0000e-04\n",
      "Epoch 17/50\n",
      "\u001b[1m98/98\u001b[0m \u001b[32m━━━━━━━━━━━━━━━━━━━━\u001b[0m\u001b[37m\u001b[0m \u001b[1m96s\u001b[0m 985ms/step - accuracy: 0.9488 - loss: 0.1505 - val_accuracy: 0.9402 - val_loss: 0.2083 - learning_rate: 2.5000e-04\n",
      "Epoch 18/50\n",
      "\u001b[1m98/98\u001b[0m \u001b[32m━━━━━━━━━━━━━━━━━━━━\u001b[0m\u001b[37m\u001b[0m \u001b[1m97s\u001b[0m 989ms/step - accuracy: 0.9583 - loss: 0.1189 - val_accuracy: 0.9573 - val_loss: 0.1443 - learning_rate: 2.5000e-04\n",
      "Epoch 19/50\n",
      "\u001b[1m98/98\u001b[0m \u001b[32m━━━━━━━━━━━━━━━━━━━━\u001b[0m\u001b[37m\u001b[0m \u001b[1m96s\u001b[0m 983ms/step - accuracy: 0.9552 - loss: 0.1355 - val_accuracy: 0.9487 - val_loss: 0.1682 - learning_rate: 2.5000e-04\n",
      "Epoch 20/50\n",
      "\u001b[1m98/98\u001b[0m \u001b[32m━━━━━━━━━━━━━━━━━━━━\u001b[0m\u001b[37m\u001b[0m \u001b[1m96s\u001b[0m 972ms/step - accuracy: 0.9613 - loss: 0.1105 - val_accuracy: 0.9459 - val_loss: 0.1712 - learning_rate: 2.5000e-04\n",
      "Epoch 21/50\n",
      "\u001b[1m98/98\u001b[0m \u001b[32m━━━━━━━━━━━━━━━━━━━━\u001b[0m\u001b[37m\u001b[0m \u001b[1m95s\u001b[0m 972ms/step - accuracy: 0.9593 - loss: 0.1195 - val_accuracy: 0.9516 - val_loss: 0.1902 - learning_rate: 2.5000e-04\n",
      "Epoch 22/50\n",
      "\u001b[1m98/98\u001b[0m \u001b[32m━━━━━━━━━━━━━━━━━━━━\u001b[0m\u001b[37m\u001b[0m \u001b[1m96s\u001b[0m 975ms/step - accuracy: 0.9551 - loss: 0.1155 - val_accuracy: 0.9573 - val_loss: 0.1677 - learning_rate: 1.2500e-04\n",
      "Epoch 23/50\n",
      "\u001b[1m98/98\u001b[0m \u001b[32m━━━━━━━━━━━━━━━━━━━━\u001b[0m\u001b[37m\u001b[0m \u001b[1m96s\u001b[0m 981ms/step - accuracy: 0.9700 - loss: 0.0830 - val_accuracy: 0.9516 - val_loss: 0.1692 - learning_rate: 1.2500e-04\n",
      "Epoch 24/50\n",
      "\u001b[1m98/98\u001b[0m \u001b[32m━━━━━━━━━━━━━━━━━━━━\u001b[0m\u001b[37m\u001b[0m \u001b[1m95s\u001b[0m 971ms/step - accuracy: 0.9716 - loss: 0.0971 - val_accuracy: 0.9573 - val_loss: 0.1573 - learning_rate: 1.2500e-04\n",
      "Epoch 25/50\n",
      "\u001b[1m98/98\u001b[0m \u001b[32m━━━━━━━━━━━━━━━━━━━━\u001b[0m\u001b[37m\u001b[0m \u001b[1m94s\u001b[0m 962ms/step - accuracy: 0.9672 - loss: 0.0926 - val_accuracy: 0.9601 - val_loss: 0.1621 - learning_rate: 6.2500e-05\n",
      "Epoch 26/50\n",
      "\u001b[1m98/98\u001b[0m \u001b[32m━━━━━━━━━━━━━━━━━━━━\u001b[0m\u001b[37m\u001b[0m \u001b[1m94s\u001b[0m 962ms/step - accuracy: 0.9755 - loss: 0.0762 - val_accuracy: 0.9601 - val_loss: 0.1555 - learning_rate: 6.2500e-05\n",
      "Epoch 27/50\n",
      "\u001b[1m98/98\u001b[0m \u001b[32m━━━━━━━━━━━━━━━━━━━━\u001b[0m\u001b[37m\u001b[0m \u001b[1m95s\u001b[0m 972ms/step - accuracy: 0.9798 - loss: 0.0636 - val_accuracy: 0.9601 - val_loss: 0.1516 - learning_rate: 6.2500e-05\n",
      "Epoch 28/50\n",
      "\u001b[1m98/98\u001b[0m \u001b[32m━━━━━━━━━━━━━━━━━━━━\u001b[0m\u001b[37m\u001b[0m \u001b[1m94s\u001b[0m 951ms/step - accuracy: 0.9760 - loss: 0.0760 - val_accuracy: 0.9630 - val_loss: 0.1574 - learning_rate: 3.1250e-05\n"
     ]
    }
   ],
   "source": [
    "# Entrenar el modelo\n",
    "history = model.fit(\n",
    "    train_generator,\n",
    "    epochs=50,\n",
    "    validation_data=validation_generator,\n",
    "    callbacks=[checkpoint_cb, earlystop_cb, reduce_lr]\n",
    ")"
   ]
  },
  {
   "cell_type": "code",
   "execution_count": 19,
   "metadata": {},
   "outputs": [
    {
     "name": "stdout",
     "output_type": "stream",
     "text": [
      "\u001b[1m12/12\u001b[0m \u001b[32m━━━━━━━━━━━━━━━━━━━━\u001b[0m\u001b[37m\u001b[0m \u001b[1m13s\u001b[0m 1s/step - accuracy: 0.9660 - loss: 0.1339 \n",
      "Pérdida en el conjunto de prueba: 0.14255769550800323\n",
      "Precisión en el conjunto de prueba: 0.9582172632217407\n"
     ]
    }
   ],
   "source": [
    "loss, accuracy = model.evaluate(test_generator)\n",
    "print(f\"Pérdida en el conjunto de prueba: {loss}\")\n",
    "print(f\"Precisión en el conjunto de prueba: {accuracy}\")"
   ]
  },
  {
   "cell_type": "code",
   "execution_count": 46,
   "metadata": {},
   "outputs": [],
   "source": [
    "from sklearn.metrics import classification_report"
   ]
  },
  {
   "cell_type": "code",
   "execution_count": 47,
   "metadata": {},
   "outputs": [
    {
     "name": "stdout",
     "output_type": "stream",
     "text": [
      "\u001b[1m12/12\u001b[0m \u001b[32m━━━━━━━━━━━━━━━━━━━━\u001b[0m\u001b[37m\u001b[0m \u001b[1m17s\u001b[0m 1s/step \n",
      "              precision    recall  f1-score   support\n",
      "\n",
      "           0       0.89      0.80      0.84        10\n",
      "           1       1.00      0.78      0.88         9\n",
      "           2       1.00      1.00      1.00        10\n",
      "           3       0.83      1.00      0.91        10\n",
      "           4       1.00      1.00      1.00        10\n",
      "           5       1.00      0.80      0.89        10\n",
      "           6       1.00      0.90      0.95        10\n",
      "           7       1.00      1.00      1.00        10\n",
      "           8       0.83      1.00      0.91        10\n",
      "           9       0.78      0.70      0.74        10\n",
      "          10       1.00      1.00      1.00        10\n",
      "          11       1.00      1.00      1.00        10\n",
      "          12       1.00      1.00      1.00        10\n",
      "          13       1.00      1.00      1.00        10\n",
      "          14       1.00      1.00      1.00        10\n",
      "          15       1.00      0.90      0.95        10\n",
      "          16       1.00      1.00      1.00        10\n",
      "          17       1.00      1.00      1.00        10\n",
      "          18       1.00      1.00      1.00        10\n",
      "          19       1.00      1.00      1.00        10\n",
      "          20       1.00      1.00      1.00        10\n",
      "          21       0.91      1.00      0.95        10\n",
      "          22       0.77      1.00      0.87        10\n",
      "          23       1.00      1.00      1.00        10\n",
      "          24       1.00      1.00      1.00        10\n",
      "          25       1.00      1.00      1.00        10\n",
      "          26       1.00      1.00      1.00        10\n",
      "          27       1.00      0.80      0.89        10\n",
      "          28       0.91      1.00      0.95        10\n",
      "          29       1.00      1.00      1.00        10\n",
      "          30       1.00      1.00      1.00        10\n",
      "          31       0.73      0.80      0.76        10\n",
      "          32       1.00      1.00      1.00        10\n",
      "          33       1.00      1.00      1.00        10\n",
      "          34       1.00      1.00      1.00        10\n",
      "          35       1.00      1.00      1.00        10\n",
      "\n",
      "    accuracy                           0.96       359\n",
      "   macro avg       0.96      0.96      0.96       359\n",
      "weighted avg       0.96      0.96      0.96       359\n",
      "\n"
     ]
    }
   ],
   "source": [
    "print(classification_report(test_generator.classes, np.argmax(model.predict(test_generator), axis=-1)))"
   ]
  },
  {
   "cell_type": "code",
   "execution_count": 26,
   "metadata": {},
   "outputs": [
    {
     "data": {
      "text/html": [
       "<div>\n",
       "<style scoped>\n",
       "    .dataframe tbody tr th:only-of-type {\n",
       "        vertical-align: middle;\n",
       "    }\n",
       "\n",
       "    .dataframe tbody tr th {\n",
       "        vertical-align: top;\n",
       "    }\n",
       "\n",
       "    .dataframe thead th {\n",
       "        text-align: right;\n",
       "    }\n",
       "</style>\n",
       "<table border=\"1\" class=\"dataframe\">\n",
       "  <thead>\n",
       "    <tr style=\"text-align: right;\">\n",
       "      <th></th>\n",
       "      <th>accuracy</th>\n",
       "      <th>loss</th>\n",
       "      <th>val_accuracy</th>\n",
       "      <th>val_loss</th>\n",
       "      <th>learning_rate</th>\n",
       "    </tr>\n",
       "  </thead>\n",
       "  <tbody>\n",
       "    <tr>\n",
       "      <th>23</th>\n",
       "      <td>0.968218</td>\n",
       "      <td>0.094494</td>\n",
       "      <td>0.957265</td>\n",
       "      <td>0.157320</td>\n",
       "      <td>0.000125</td>\n",
       "    </tr>\n",
       "    <tr>\n",
       "      <th>24</th>\n",
       "      <td>0.971108</td>\n",
       "      <td>0.082539</td>\n",
       "      <td>0.960114</td>\n",
       "      <td>0.162060</td>\n",
       "      <td>0.000063</td>\n",
       "    </tr>\n",
       "    <tr>\n",
       "      <th>25</th>\n",
       "      <td>0.975923</td>\n",
       "      <td>0.075148</td>\n",
       "      <td>0.960114</td>\n",
       "      <td>0.155451</td>\n",
       "      <td>0.000063</td>\n",
       "    </tr>\n",
       "    <tr>\n",
       "      <th>26</th>\n",
       "      <td>0.977528</td>\n",
       "      <td>0.067440</td>\n",
       "      <td>0.960114</td>\n",
       "      <td>0.151564</td>\n",
       "      <td>0.000063</td>\n",
       "    </tr>\n",
       "    <tr>\n",
       "      <th>27</th>\n",
       "      <td>0.973034</td>\n",
       "      <td>0.078084</td>\n",
       "      <td>0.962963</td>\n",
       "      <td>0.157414</td>\n",
       "      <td>0.000031</td>\n",
       "    </tr>\n",
       "  </tbody>\n",
       "</table>\n",
       "</div>"
      ],
      "text/plain": [
       "    accuracy      loss  val_accuracy  val_loss  learning_rate\n",
       "23  0.968218  0.094494      0.957265  0.157320       0.000125\n",
       "24  0.971108  0.082539      0.960114  0.162060       0.000063\n",
       "25  0.975923  0.075148      0.960114  0.155451       0.000063\n",
       "26  0.977528  0.067440      0.960114  0.151564       0.000063\n",
       "27  0.973034  0.078084      0.962963  0.157414       0.000031"
      ]
     },
     "execution_count": 26,
     "metadata": {},
     "output_type": "execute_result"
    }
   ],
   "source": [
    "# Convert resutl of training to a DataFrame\n",
    "result_df = pd.DataFrame(history.history)\n",
    "result_df.tail()"
   ]
  },
  {
   "cell_type": "code",
   "execution_count": 28,
   "metadata": {},
   "outputs": [
    {
     "data": {
      "image/png": "[encoded data removed]",
      "text/plain": [
       "<Figure size 1500x1200 with 3 Axes>"
      ]
     },
     "metadata": {},
     "output_type": "display_data"
    }
   ],
   "source": [
    "x = np.arange(len(result_df))\n",
    "fig, ax = plt.subplots(3, 1, figsize=(15, 12))\n",
    "\n",
    "ax[0].plot(x, result_df['accuracy'], label='accuracy')\n",
    "ax[0].plot(x, result_df['val_accuracy'], label='val_accuracy')\n",
    "ax[0].legend(loc='best')\n",
    "ax[0].grid(True)\n",
    "\n",
    "ax[1].plot(x, result_df['loss'], label='loss')\n",
    "ax[1].plot(x, result_df['val_loss'], label='val_loss')\n",
    "ax[1].legend(loc='best')\n",
    "ax[1].grid(True)\n",
    "\n",
    "ax[2].plot(x, result_df['learning_rate'], label='learning_rate')\n",
    "ax[2].legend(loc='best')\n",
    "ax[2].grid(True)\n",
    "\n",
    "plt.show()"
   ]
  },
  {
   "cell_type": "code",
   "execution_count": 29,
   "metadata": {},
   "outputs": [],
   "source": [
    "best_model = models.load_model('MyModel.keras')"
   ]
  },
  {
   "cell_type": "code",
   "execution_count": 32,
   "metadata": {},
   "outputs": [
    {
     "name": "stdout",
     "output_type": "stream",
     "text": [
      "\u001b[1m12/12\u001b[0m \u001b[32m━━━━━━━━━━━━━━━━━━━━\u001b[0m\u001b[37m\u001b[0m \u001b[1m16s\u001b[0m 958ms/step - accuracy: 0.9660 - loss: 0.1339\n",
      "Test Loss: 0.14255769550800323\n",
      "Test Accuracy: 0.9582172632217407\n"
     ]
    }
   ],
   "source": [
    "# Evaluate the model on the test data\n",
    "test_loss, test_accuracy = best_model.evaluate(test_generator)\n",
    "\n",
    "print(\"Test Loss:\", test_loss)\n",
    "print(\"Test Accuracy:\", test_accuracy)"
   ]
  },
  {
   "cell_type": "code",
   "execution_count": 43,
   "metadata": {},
   "outputs": [
    {
     "name": "stdout",
     "output_type": "stream",
     "text": [
      "\u001b[1m1/1\u001b[0m \u001b[32m━━━━━━━━━━━━━━━━━━━━\u001b[0m\u001b[37m\u001b[0m \u001b[1m0s\u001b[0m 23ms/step\n",
      "La imagen pertenece a la clase: lemon\n"
     ]
    }
   ],
   "source": [
    "import numpy as np\n",
    "from PIL import Image\n",
    "\n",
    "# Probar el modelo con una imagen\n",
    "image_path = './05.jpg'\n",
    "img = Image.open(image_path).convert(\"RGB\")\n",
    "img = img.resize((224, 224))\n",
    "img_array = np.array(img, dtype=np.float32)\n",
    "img_array = np.expand_dims(img_array, axis=0)  # Añadir dimensión para batch\n",
    "img_array /= 255.0  # Normalizar entre 0 y 1\n",
    "\n",
    "predictions = best_model.predict(img_array)\n",
    "\n",
    "# Decodificar la predicción\n",
    "class_labels = train_generator.class_indices\n",
    "class_labels = {v: k for k, v in class_labels.items()}  # Invertir el diccionario\n",
    "predicted_class_index = np.argmax(predictions[0])      # Índice de la clase con mayor probabilidad\n",
    "predicted_class = class_labels[predicted_class_index]  # Nombre de la clase\n",
    "\n",
    "print(f\"La imagen pertenece a la clase: {predicted_class}\")\n"
   ]
  },
  {
   "cell_type": "code",
   "execution_count": 44,
   "metadata": {},
   "outputs": [
    {
     "name": "stdout",
     "output_type": "stream",
     "text": [
      "INFO:tensorflow:Assets written to: /tmp/tmp7qgr0fmh/assets\n"
     ]
    },
    {
     "name": "stderr",
     "output_type": "stream",
     "text": [
      "INFO:tensorflow:Assets written to: /tmp/tmp7qgr0fmh/assets\n"
     ]
    },
    {
     "name": "stdout",
     "output_type": "stream",
     "text": [
      "Saved artifact at '/tmp/tmp7qgr0fmh'. The following endpoints are available:\n",
      "\n",
      "* Endpoint 'serve'\n",
      "  args_0 (POSITIONAL_ONLY): TensorSpec(shape=(None, 224, 224, 3), dtype=tf.float32, name='input_layer_1')\n",
      "Output Type:\n",
      "  TensorSpec(shape=(None, 36), dtype=tf.float32, name=None)\n",
      "Captures:\n",
      "  137836172729744: TensorSpec(shape=(), dtype=tf.resource, name=None)\n",
      "  137836172731088: TensorSpec(shape=(), dtype=tf.resource, name=None)\n",
      "  137836172731280: TensorSpec(shape=(), dtype=tf.resource, name=None)\n",
      "  137836172730896: TensorSpec(shape=(), dtype=tf.resource, name=None)\n",
      "  137836172730320: TensorSpec(shape=(), dtype=tf.resource, name=None)\n",
      "  137836172731664: TensorSpec(shape=(), dtype=tf.resource, name=None)\n",
      "  137836172733008: TensorSpec(shape=(), dtype=tf.resource, name=None)\n",
      "  137836172733200: TensorSpec(shape=(), dtype=tf.resource, name=None)\n",
      "  137836172732816: TensorSpec(shape=(), dtype=tf.resource, name=None)\n",
      "  137836172732048: TensorSpec(shape=(), dtype=tf.resource, name=None)\n",
      "  137836172733584: TensorSpec(shape=(), dtype=tf.resource, name=None)\n",
      "  137836172734928: TensorSpec(shape=(), dtype=tf.resource, name=None)\n",
      "  137836172735120: TensorSpec(shape=(), dtype=tf.resource, name=None)\n",
      "  137836172734736: TensorSpec(shape=(), dtype=tf.resource, name=None)\n",
      "  137836172733968: TensorSpec(shape=(), dtype=tf.resource, name=None)\n",
      "  137836172735504: TensorSpec(shape=(), dtype=tf.resource, name=None)\n",
      "  137836172736848: TensorSpec(shape=(), dtype=tf.resource, name=None)\n",
      "  137836172737040: TensorSpec(shape=(), dtype=tf.resource, name=None)\n",
      "  137836172736656: TensorSpec(shape=(), dtype=tf.resource, name=None)\n",
      "  137836172735888: TensorSpec(shape=(), dtype=tf.resource, name=None)\n",
      "  137836172737424: TensorSpec(shape=(), dtype=tf.resource, name=None)\n",
      "  137836172737808: TensorSpec(shape=(), dtype=tf.resource, name=None)\n",
      "  137836071403600: TensorSpec(shape=(), dtype=tf.resource, name=None)\n",
      "  137836172730512: TensorSpec(shape=(), dtype=tf.resource, name=None)\n",
      "  137836172736272: TensorSpec(shape=(), dtype=tf.resource, name=None)\n",
      "  137836071403792: TensorSpec(shape=(), dtype=tf.resource, name=None)\n",
      "  137836071405712: TensorSpec(shape=(), dtype=tf.resource, name=None)\n",
      "  137836071405904: TensorSpec(shape=(), dtype=tf.resource, name=None)\n",
      "  137836071405520: TensorSpec(shape=(), dtype=tf.resource, name=None)\n",
      "  137836071404752: TensorSpec(shape=(), dtype=tf.resource, name=None)\n",
      "  137836071406288: TensorSpec(shape=(), dtype=tf.resource, name=None)\n",
      "  137836071407632: TensorSpec(shape=(), dtype=tf.resource, name=None)\n",
      "  137836071407824: TensorSpec(shape=(), dtype=tf.resource, name=None)\n",
      "  137836071407440: TensorSpec(shape=(), dtype=tf.resource, name=None)\n",
      "  137836071406672: TensorSpec(shape=(), dtype=tf.resource, name=None)\n",
      "  137836071408208: TensorSpec(shape=(), dtype=tf.resource, name=None)\n",
      "  137836071409552: TensorSpec(shape=(), dtype=tf.resource, name=None)\n",
      "  137836071409744: TensorSpec(shape=(), dtype=tf.resource, name=None)\n",
      "  137836071409360: TensorSpec(shape=(), dtype=tf.resource, name=None)\n",
      "  137836071408592: TensorSpec(shape=(), dtype=tf.resource, name=None)\n",
      "  137836071410128: TensorSpec(shape=(), dtype=tf.resource, name=None)\n",
      "  137836071411472: TensorSpec(shape=(), dtype=tf.resource, name=None)\n",
      "  137836071411664: TensorSpec(shape=(), dtype=tf.resource, name=None)\n",
      "  137836071411280: TensorSpec(shape=(), dtype=tf.resource, name=None)\n",
      "  137836071410512: TensorSpec(shape=(), dtype=tf.resource, name=None)\n",
      "  137836071412048: TensorSpec(shape=(), dtype=tf.resource, name=None)\n",
      "  137836071413392: TensorSpec(shape=(), dtype=tf.resource, name=None)\n",
      "  137836071413584: TensorSpec(shape=(), dtype=tf.resource, name=None)\n",
      "  137836071413200: TensorSpec(shape=(), dtype=tf.resource, name=None)\n",
      "  137836071412432: TensorSpec(shape=(), dtype=tf.resource, name=None)\n",
      "  137836071413968: TensorSpec(shape=(), dtype=tf.resource, name=None)\n",
      "  137836071415312: TensorSpec(shape=(), dtype=tf.resource, name=None)\n",
      "  137836071415504: TensorSpec(shape=(), dtype=tf.resource, name=None)\n",
      "  137836071415120: TensorSpec(shape=(), dtype=tf.resource, name=None)\n",
      "  137836071414352: TensorSpec(shape=(), dtype=tf.resource, name=None)\n",
      "  137836071415888: TensorSpec(shape=(), dtype=tf.resource, name=None)\n",
      "  137836071417232: TensorSpec(shape=(), dtype=tf.resource, name=None)\n",
      "  137836071417424: TensorSpec(shape=(), dtype=tf.resource, name=None)\n",
      "  137836071417040: TensorSpec(shape=(), dtype=tf.resource, name=None)\n",
      "  137836071416272: TensorSpec(shape=(), dtype=tf.resource, name=None)\n",
      "  137836071417808: TensorSpec(shape=(), dtype=tf.resource, name=None)\n",
      "  137836071419152: TensorSpec(shape=(), dtype=tf.resource, name=None)\n",
      "  137836071419344: TensorSpec(shape=(), dtype=tf.resource, name=None)\n",
      "  137836071418960: TensorSpec(shape=(), dtype=tf.resource, name=None)\n",
      "  137836071418192: TensorSpec(shape=(), dtype=tf.resource, name=None)\n",
      "  137836071416656: TensorSpec(shape=(), dtype=tf.resource, name=None)\n",
      "  137836071781200: TensorSpec(shape=(), dtype=tf.resource, name=None)\n",
      "  137836071780432: TensorSpec(shape=(), dtype=tf.resource, name=None)\n",
      "  137836071781392: TensorSpec(shape=(), dtype=tf.resource, name=None)\n",
      "  137836071780624: TensorSpec(shape=(), dtype=tf.resource, name=None)\n",
      "  137836071782160: TensorSpec(shape=(), dtype=tf.resource, name=None)\n",
      "  137836071783504: TensorSpec(shape=(), dtype=tf.resource, name=None)\n",
      "  137836071783696: TensorSpec(shape=(), dtype=tf.resource, name=None)\n",
      "  137836071783312: TensorSpec(shape=(), dtype=tf.resource, name=None)\n",
      "  137836071782544: TensorSpec(shape=(), dtype=tf.resource, name=None)\n",
      "  137836071784080: TensorSpec(shape=(), dtype=tf.resource, name=None)\n",
      "  137836071785424: TensorSpec(shape=(), dtype=tf.resource, name=None)\n",
      "  137836071785616: TensorSpec(shape=(), dtype=tf.resource, name=None)\n",
      "  137836071785232: TensorSpec(shape=(), dtype=tf.resource, name=None)\n",
      "  137836071784464: TensorSpec(shape=(), dtype=tf.resource, name=None)\n",
      "  137836071786000: TensorSpec(shape=(), dtype=tf.resource, name=None)\n",
      "  137836071787344: TensorSpec(shape=(), dtype=tf.resource, name=None)\n",
      "  137836071787536: TensorSpec(shape=(), dtype=tf.resource, name=None)\n",
      "  137836071787152: TensorSpec(shape=(), dtype=tf.resource, name=None)\n",
      "  137836071786384: TensorSpec(shape=(), dtype=tf.resource, name=None)\n",
      "  137836071787920: TensorSpec(shape=(), dtype=tf.resource, name=None)\n",
      "  137836071789264: TensorSpec(shape=(), dtype=tf.resource, name=None)\n",
      "  137836071789456: TensorSpec(shape=(), dtype=tf.resource, name=None)\n",
      "  137836071789072: TensorSpec(shape=(), dtype=tf.resource, name=None)\n",
      "  137836071788304: TensorSpec(shape=(), dtype=tf.resource, name=None)\n",
      "  137836071789840: TensorSpec(shape=(), dtype=tf.resource, name=None)\n",
      "  137836071791184: TensorSpec(shape=(), dtype=tf.resource, name=None)\n",
      "  137836071791376: TensorSpec(shape=(), dtype=tf.resource, name=None)\n",
      "  137836071790992: TensorSpec(shape=(), dtype=tf.resource, name=None)\n",
      "  137836071790224: TensorSpec(shape=(), dtype=tf.resource, name=None)\n",
      "  137836071791760: TensorSpec(shape=(), dtype=tf.resource, name=None)\n",
      "  137836071793104: TensorSpec(shape=(), dtype=tf.resource, name=None)\n",
      "  137836071793296: TensorSpec(shape=(), dtype=tf.resource, name=None)\n",
      "  137836071792912: TensorSpec(shape=(), dtype=tf.resource, name=None)\n",
      "  137836071792144: TensorSpec(shape=(), dtype=tf.resource, name=None)\n",
      "  137836071793680: TensorSpec(shape=(), dtype=tf.resource, name=None)\n",
      "  137836071795024: TensorSpec(shape=(), dtype=tf.resource, name=None)\n",
      "  137836071795216: TensorSpec(shape=(), dtype=tf.resource, name=None)\n",
      "  137836071794832: TensorSpec(shape=(), dtype=tf.resource, name=None)\n",
      "  137836071794064: TensorSpec(shape=(), dtype=tf.resource, name=None)\n",
      "  137836071795600: TensorSpec(shape=(), dtype=tf.resource, name=None)\n",
      "  137836071795984: TensorSpec(shape=(), dtype=tf.resource, name=None)\n",
      "  137836072108688: TensorSpec(shape=(), dtype=tf.resource, name=None)\n",
      "  137836071781776: TensorSpec(shape=(), dtype=tf.resource, name=None)\n",
      "  137836071794448: TensorSpec(shape=(), dtype=tf.resource, name=None)\n",
      "  137836072108880: TensorSpec(shape=(), dtype=tf.resource, name=None)\n",
      "  137836072110224: TensorSpec(shape=(), dtype=tf.resource, name=None)\n",
      "  137836072110416: TensorSpec(shape=(), dtype=tf.resource, name=None)\n",
      "  137836072110032: TensorSpec(shape=(), dtype=tf.resource, name=None)\n",
      "  137836072109264: TensorSpec(shape=(), dtype=tf.resource, name=None)\n",
      "  137836072110800: TensorSpec(shape=(), dtype=tf.resource, name=None)\n",
      "  137836072112144: TensorSpec(shape=(), dtype=tf.resource, name=None)\n",
      "  137836072112336: TensorSpec(shape=(), dtype=tf.resource, name=None)\n",
      "  137836072111952: TensorSpec(shape=(), dtype=tf.resource, name=None)\n",
      "  137836072111184: TensorSpec(shape=(), dtype=tf.resource, name=None)\n",
      "  137836072112720: TensorSpec(shape=(), dtype=tf.resource, name=None)\n",
      "  137836072114064: TensorSpec(shape=(), dtype=tf.resource, name=None)\n",
      "  137836072114256: TensorSpec(shape=(), dtype=tf.resource, name=None)\n",
      "  137836072113872: TensorSpec(shape=(), dtype=tf.resource, name=None)\n",
      "  137836072113104: TensorSpec(shape=(), dtype=tf.resource, name=None)\n",
      "  137836072114640: TensorSpec(shape=(), dtype=tf.resource, name=None)\n",
      "  137836072115984: TensorSpec(shape=(), dtype=tf.resource, name=None)\n",
      "  137836072116176: TensorSpec(shape=(), dtype=tf.resource, name=None)\n",
      "  137836072115792: TensorSpec(shape=(), dtype=tf.resource, name=None)\n",
      "  137836072115024: TensorSpec(shape=(), dtype=tf.resource, name=None)\n",
      "  137836072116560: TensorSpec(shape=(), dtype=tf.resource, name=None)\n",
      "  137836072117904: TensorSpec(shape=(), dtype=tf.resource, name=None)\n",
      "  137836072118096: TensorSpec(shape=(), dtype=tf.resource, name=None)\n",
      "  137836072117712: TensorSpec(shape=(), dtype=tf.resource, name=None)\n",
      "  137836072116944: TensorSpec(shape=(), dtype=tf.resource, name=None)\n",
      "  137836072118480: TensorSpec(shape=(), dtype=tf.resource, name=None)\n",
      "  137836072119824: TensorSpec(shape=(), dtype=tf.resource, name=None)\n",
      "  137836072120016: TensorSpec(shape=(), dtype=tf.resource, name=None)\n",
      "  137836072119632: TensorSpec(shape=(), dtype=tf.resource, name=None)\n",
      "  137836072118864: TensorSpec(shape=(), dtype=tf.resource, name=None)\n",
      "  137836072120400: TensorSpec(shape=(), dtype=tf.resource, name=None)\n",
      "  137836072121744: TensorSpec(shape=(), dtype=tf.resource, name=None)\n",
      "  137836072121936: TensorSpec(shape=(), dtype=tf.resource, name=None)\n",
      "  137836072121552: TensorSpec(shape=(), dtype=tf.resource, name=None)\n",
      "  137836072120784: TensorSpec(shape=(), dtype=tf.resource, name=None)\n",
      "  137836072122320: TensorSpec(shape=(), dtype=tf.resource, name=None)\n",
      "  137836072123664: TensorSpec(shape=(), dtype=tf.resource, name=None)\n",
      "  137836072123856: TensorSpec(shape=(), dtype=tf.resource, name=None)\n",
      "  137836072123472: TensorSpec(shape=(), dtype=tf.resource, name=None)\n",
      "  137836072122704: TensorSpec(shape=(), dtype=tf.resource, name=None)\n",
      "  137836072121168: TensorSpec(shape=(), dtype=tf.resource, name=None)\n",
      "  137836060967760: TensorSpec(shape=(), dtype=tf.resource, name=None)\n",
      "  137836060966992: TensorSpec(shape=(), dtype=tf.resource, name=None)\n",
      "  137836060967952: TensorSpec(shape=(), dtype=tf.resource, name=None)\n",
      "  137836060967184: TensorSpec(shape=(), dtype=tf.resource, name=None)\n",
      "  137836060968720: TensorSpec(shape=(), dtype=tf.resource, name=None)\n",
      "  137836060970064: TensorSpec(shape=(), dtype=tf.resource, name=None)\n",
      "  137836060970256: TensorSpec(shape=(), dtype=tf.resource, name=None)\n",
      "  137836060969872: TensorSpec(shape=(), dtype=tf.resource, name=None)\n",
      "  137836060969104: TensorSpec(shape=(), dtype=tf.resource, name=None)\n",
      "  137836060970640: TensorSpec(shape=(), dtype=tf.resource, name=None)\n",
      "  137836060971984: TensorSpec(shape=(), dtype=tf.resource, name=None)\n",
      "  137836060972176: TensorSpec(shape=(), dtype=tf.resource, name=None)\n",
      "  137836060971792: TensorSpec(shape=(), dtype=tf.resource, name=None)\n",
      "  137836060971024: TensorSpec(shape=(), dtype=tf.resource, name=None)\n",
      "  137836060972560: TensorSpec(shape=(), dtype=tf.resource, name=None)\n",
      "  137836060973904: TensorSpec(shape=(), dtype=tf.resource, name=None)\n",
      "  137836060974096: TensorSpec(shape=(), dtype=tf.resource, name=None)\n",
      "  137836060973712: TensorSpec(shape=(), dtype=tf.resource, name=None)\n",
      "  137836060972944: TensorSpec(shape=(), dtype=tf.resource, name=None)\n",
      "  137836060974480: TensorSpec(shape=(), dtype=tf.resource, name=None)\n",
      "  137836060975824: TensorSpec(shape=(), dtype=tf.resource, name=None)\n",
      "  137836060976016: TensorSpec(shape=(), dtype=tf.resource, name=None)\n",
      "  137836060975632: TensorSpec(shape=(), dtype=tf.resource, name=None)\n",
      "  137836060974864: TensorSpec(shape=(), dtype=tf.resource, name=None)\n",
      "  137836060976400: TensorSpec(shape=(), dtype=tf.resource, name=None)\n",
      "  137836060977744: TensorSpec(shape=(), dtype=tf.resource, name=None)\n",
      "  137836060977936: TensorSpec(shape=(), dtype=tf.resource, name=None)\n",
      "  137836060977552: TensorSpec(shape=(), dtype=tf.resource, name=None)\n",
      "  137836060976784: TensorSpec(shape=(), dtype=tf.resource, name=None)\n",
      "  137836060978320: TensorSpec(shape=(), dtype=tf.resource, name=None)\n",
      "  137836060979664: TensorSpec(shape=(), dtype=tf.resource, name=None)\n",
      "  137836060979856: TensorSpec(shape=(), dtype=tf.resource, name=None)\n",
      "  137836060979472: TensorSpec(shape=(), dtype=tf.resource, name=None)\n",
      "  137836060978704: TensorSpec(shape=(), dtype=tf.resource, name=None)\n",
      "  137836060980240: TensorSpec(shape=(), dtype=tf.resource, name=None)\n",
      "  137836060981584: TensorSpec(shape=(), dtype=tf.resource, name=None)\n",
      "  137836060981776: TensorSpec(shape=(), dtype=tf.resource, name=None)\n",
      "  137836060981392: TensorSpec(shape=(), dtype=tf.resource, name=None)\n",
      "  137836060980624: TensorSpec(shape=(), dtype=tf.resource, name=None)\n",
      "  137836060982160: TensorSpec(shape=(), dtype=tf.resource, name=None)\n",
      "  137836060982544: TensorSpec(shape=(), dtype=tf.resource, name=None)\n",
      "  137836061344400: TensorSpec(shape=(), dtype=tf.resource, name=None)\n",
      "  137836060968336: TensorSpec(shape=(), dtype=tf.resource, name=None)\n",
      "  137836060981008: TensorSpec(shape=(), dtype=tf.resource, name=None)\n",
      "  137836061344592: TensorSpec(shape=(), dtype=tf.resource, name=None)\n",
      "  137836061345936: TensorSpec(shape=(), dtype=tf.resource, name=None)\n",
      "  137836061346128: TensorSpec(shape=(), dtype=tf.resource, name=None)\n",
      "  137836061345744: TensorSpec(shape=(), dtype=tf.resource, name=None)\n",
      "  137836061344976: TensorSpec(shape=(), dtype=tf.resource, name=None)\n",
      "  137836061346512: TensorSpec(shape=(), dtype=tf.resource, name=None)\n",
      "  137836061347856: TensorSpec(shape=(), dtype=tf.resource, name=None)\n",
      "  137836061348048: TensorSpec(shape=(), dtype=tf.resource, name=None)\n",
      "  137836061347664: TensorSpec(shape=(), dtype=tf.resource, name=None)\n",
      "  137836061346896: TensorSpec(shape=(), dtype=tf.resource, name=None)\n",
      "  137836061348432: TensorSpec(shape=(), dtype=tf.resource, name=None)\n",
      "  137836061349776: TensorSpec(shape=(), dtype=tf.resource, name=None)\n",
      "  137836061349968: TensorSpec(shape=(), dtype=tf.resource, name=None)\n",
      "  137836061349584: TensorSpec(shape=(), dtype=tf.resource, name=None)\n",
      "  137836061348816: TensorSpec(shape=(), dtype=tf.resource, name=None)\n",
      "  137836061350352: TensorSpec(shape=(), dtype=tf.resource, name=None)\n",
      "  137836061351696: TensorSpec(shape=(), dtype=tf.resource, name=None)\n",
      "  137836061351888: TensorSpec(shape=(), dtype=tf.resource, name=None)\n",
      "  137836061351504: TensorSpec(shape=(), dtype=tf.resource, name=None)\n",
      "  137836061350736: TensorSpec(shape=(), dtype=tf.resource, name=None)\n",
      "  137836061352272: TensorSpec(shape=(), dtype=tf.resource, name=None)\n",
      "  137836061353616: TensorSpec(shape=(), dtype=tf.resource, name=None)\n",
      "  137836061353808: TensorSpec(shape=(), dtype=tf.resource, name=None)\n",
      "  137836061353424: TensorSpec(shape=(), dtype=tf.resource, name=None)\n",
      "  137836061352656: TensorSpec(shape=(), dtype=tf.resource, name=None)\n",
      "  137836061354192: TensorSpec(shape=(), dtype=tf.resource, name=None)\n",
      "  137836061355536: TensorSpec(shape=(), dtype=tf.resource, name=None)\n",
      "  137836061355728: TensorSpec(shape=(), dtype=tf.resource, name=None)\n",
      "  137836061355344: TensorSpec(shape=(), dtype=tf.resource, name=None)\n",
      "  137836061354576: TensorSpec(shape=(), dtype=tf.resource, name=None)\n",
      "  137836061356112: TensorSpec(shape=(), dtype=tf.resource, name=None)\n",
      "  137836061357456: TensorSpec(shape=(), dtype=tf.resource, name=None)\n",
      "  137836061357648: TensorSpec(shape=(), dtype=tf.resource, name=None)\n",
      "  137836061357264: TensorSpec(shape=(), dtype=tf.resource, name=None)\n",
      "  137836061356496: TensorSpec(shape=(), dtype=tf.resource, name=None)\n",
      "  137836061358032: TensorSpec(shape=(), dtype=tf.resource, name=None)\n",
      "  137836061359376: TensorSpec(shape=(), dtype=tf.resource, name=None)\n",
      "  137836061359568: TensorSpec(shape=(), dtype=tf.resource, name=None)\n",
      "  137836061359184: TensorSpec(shape=(), dtype=tf.resource, name=None)\n",
      "  137836061358416: TensorSpec(shape=(), dtype=tf.resource, name=None)\n",
      "  137836061356880: TensorSpec(shape=(), dtype=tf.resource, name=None)\n",
      "  137836061737808: TensorSpec(shape=(), dtype=tf.resource, name=None)\n",
      "  137836061737040: TensorSpec(shape=(), dtype=tf.resource, name=None)\n",
      "  137836061738000: TensorSpec(shape=(), dtype=tf.resource, name=None)\n",
      "  137836061737232: TensorSpec(shape=(), dtype=tf.resource, name=None)\n",
      "  137836061738768: TensorSpec(shape=(), dtype=tf.resource, name=None)\n",
      "  137836061740112: TensorSpec(shape=(), dtype=tf.resource, name=None)\n",
      "  137836061740304: TensorSpec(shape=(), dtype=tf.resource, name=None)\n",
      "  137836061739920: TensorSpec(shape=(), dtype=tf.resource, name=None)\n",
      "  137836061739152: TensorSpec(shape=(), dtype=tf.resource, name=None)\n",
      "  137836061740688: TensorSpec(shape=(), dtype=tf.resource, name=None)\n",
      "  137836061742032: TensorSpec(shape=(), dtype=tf.resource, name=None)\n",
      "  137836061742224: TensorSpec(shape=(), dtype=tf.resource, name=None)\n",
      "  137836061741840: TensorSpec(shape=(), dtype=tf.resource, name=None)\n",
      "  137836061741072: TensorSpec(shape=(), dtype=tf.resource, name=None)\n",
      "  137836061742608: TensorSpec(shape=(), dtype=tf.resource, name=None)\n",
      "  137836061743952: TensorSpec(shape=(), dtype=tf.resource, name=None)\n",
      "  137836061744144: TensorSpec(shape=(), dtype=tf.resource, name=None)\n",
      "  137836061743760: TensorSpec(shape=(), dtype=tf.resource, name=None)\n",
      "  137836061742992: TensorSpec(shape=(), dtype=tf.resource, name=None)\n",
      "  137836061744528: TensorSpec(shape=(), dtype=tf.resource, name=None)\n",
      "  137836061745872: TensorSpec(shape=(), dtype=tf.resource, name=None)\n",
      "  137836061746064: TensorSpec(shape=(), dtype=tf.resource, name=None)\n",
      "  137836061745680: TensorSpec(shape=(), dtype=tf.resource, name=None)\n",
      "  137836061744912: TensorSpec(shape=(), dtype=tf.resource, name=None)\n",
      "  137836061746832: TensorSpec(shape=(), dtype=tf.resource, name=None)\n",
      "  137836061747408: TensorSpec(shape=(), dtype=tf.resource, name=None)\n",
      "  137836061747600: TensorSpec(shape=(), dtype=tf.resource, name=None)\n",
      "  137836061748560: TensorSpec(shape=(), dtype=tf.resource, name=None)\n",
      "  137836061748752: TensorSpec(shape=(), dtype=tf.resource, name=None)\n",
      "  137836061749328: TensorSpec(shape=(), dtype=tf.resource, name=None)\n"
     ]
    },
    {
     "name": "stderr",
     "output_type": "stream",
     "text": [
      "W0000 00:00:1732032399.875312  110522 tf_tfl_flatbuffer_helpers.cc:365] Ignored output_format.\n",
      "W0000 00:00:1732032399.875565  110522 tf_tfl_flatbuffer_helpers.cc:368] Ignored drop_control_dependency.\n",
      "2024-11-19 11:06:39.879562: I tensorflow/cc/saved_model/reader.cc:83] Reading SavedModel from: /tmp/tmp7qgr0fmh\n",
      "2024-11-19 11:06:39.894939: I tensorflow/cc/saved_model/reader.cc:52] Reading meta graph with tags { serve }\n",
      "2024-11-19 11:06:39.894970: I tensorflow/cc/saved_model/reader.cc:147] Reading SavedModel debug info (if present) from: /tmp/tmp7qgr0fmh\n",
      "2024-11-19 11:06:40.050632: I tensorflow/cc/saved_model/loader.cc:236] Restoring SavedModel bundle.\n",
      "2024-11-19 11:06:40.906961: I tensorflow/cc/saved_model/loader.cc:220] Running initialization op on SavedModel bundle at path: /tmp/tmp7qgr0fmh\n",
      "2024-11-19 11:06:41.113177: I tensorflow/cc/saved_model/loader.cc:466] SavedModel load for tags { serve }; Status: success: OK. Took 1233821 microseconds.\n"
     ]
    },
    {
     "name": "stdout",
     "output_type": "stream",
     "text": [
      "El modelo se ha convertido y guardado como 'MyModel.tflite'\n"
     ]
    }
   ],
   "source": [
    "# Convertir el modelo a formato TFLite\n",
    "converter = tf.lite.TFLiteConverter.from_keras_model(best_model)\n",
    "tflite_model = converter.convert()\n",
    "\n",
    "# Guardar el modelo TFLite en un archivo\n",
    "with open('MyModel.tflite', 'wb') as f:\n",
    "    f.write(tflite_model)\n",
    "\n",
    "print(\"El modelo se ha convertido y guardado como 'MyModel.tflite'\")\n"
   ]
  },
  {
   "cell_type": "markdown",
   "metadata": {},
   "source": []
  }
 ],
 "metadata": {
  "kernelspec": {
   "display_name": "env",
   "language": "python",
   "name": "python3"
  },
  "language_info": {
   "codemirror_mode": {
    "name": "ipython",
    "version": 3
   },
   "file_extension": ".py",
   "mimetype": "text/x-python",
   "name": "python",
   "nbconvert_exporter": "python",
   "pygments_lexer": "ipython3",
   "version": "3.12.3"
  }
 },
 "nbformat": 4,
 "nbformat_minor": 2
}
