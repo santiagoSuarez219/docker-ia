{
 "cells": [
  {
   "cell_type": "code",
   "execution_count": 1,
   "metadata": {},
   "outputs": [
    {
     "name": "stderr",
     "output_type": "stream",
     "text": [
      "2025-05-16 14:13:40.733810: E external/local_xla/xla/stream_executor/cuda/cuda_fft.cc:467] Unable to register cuFFT factory: Attempting to register factory for plugin cuFFT when one has already been registered\n",
      "WARNING: All log messages before absl::InitializeLog() is called are written to STDERR\n",
      "E0000 00:00:1747422820.798751    6537 cuda_dnn.cc:8579] Unable to register cuDNN factory: Attempting to register factory for plugin cuDNN when one has already been registered\n",
      "E0000 00:00:1747422820.823594    6537 cuda_blas.cc:1407] Unable to register cuBLAS factory: Attempting to register factory for plugin cuBLAS when one has already been registered\n",
      "W0000 00:00:1747422820.936517    6537 computation_placer.cc:177] computation placer already registered. Please check linkage and avoid linking the same target more than once.\n",
      "W0000 00:00:1747422820.936538    6537 computation_placer.cc:177] computation placer already registered. Please check linkage and avoid linking the same target more than once.\n",
      "W0000 00:00:1747422820.936539    6537 computation_placer.cc:177] computation placer already registered. Please check linkage and avoid linking the same target more than once.\n",
      "W0000 00:00:1747422820.936540    6537 computation_placer.cc:177] computation placer already registered. Please check linkage and avoid linking the same target more than once.\n",
      "2025-05-16 14:13:40.950886: I tensorflow/core/platform/cpu_feature_guard.cc:210] This TensorFlow binary is optimized to use available CPU instructions in performance-critical operations.\n",
      "To enable the following instructions: AVX2 FMA, in other operations, rebuild TensorFlow with the appropriate compiler flags.\n"
     ]
    }
   ],
   "source": [
    "import os\n",
    "import numpy as np\n",
    "import pandas as pd\n",
    "# import seaborn as sns\n",
    "import matplotlib.pyplot as plt\n",
    "\n",
    "import tensorflow as tf\n",
    "from tensorflow.keras.preprocessing import image_dataset_from_directory\n",
    "from tensorflow.keras.preprocessing.image import ImageDataGenerator\n",
    "from tensorflow.keras.callbacks import EarlyStopping, ModelCheckpoint, ReduceLROnPlateau\n",
    "from tensorflow.keras.applications import MobileNetV2\n",
    "from tensorflow.keras import layers, models"
   ]
  },
  {
   "cell_type": "code",
   "execution_count": 2,
   "metadata": {},
   "outputs": [
    {
     "name": "stderr",
     "output_type": "stream",
     "text": [
      "/home/saniago/Documentos/Projects/DockerBreastCancer/env/lib/python3.12/site-packages/tqdm/auto.py:21: TqdmWarning: IProgress not found. Please update jupyter and ipywidgets. See https://ipywidgets.readthedocs.io/en/stable/user_install.html\n",
      "  from .autonotebook import tqdm as notebook_tqdm\n"
     ]
    },
    {
     "name": "stdout",
     "output_type": "stream",
     "text": [
      "Path to dataset files: /home/saniago/.cache/kagglehub/datasets/kritikseth/fruit-and-vegetable-image-recognition/versions/8\n"
     ]
    }
   ],
   "source": [
    "import kagglehub\n",
    "\n",
    "# Download latest version\n",
    "path = kagglehub.dataset_download(\"kritikseth/fruit-and-vegetable-image-recognition\")\n",
    "\n",
    "print(\"Path to dataset files:\", path)"
   ]
  },
  {
   "cell_type": "code",
   "execution_count": 3,
   "metadata": {},
   "outputs": [],
   "source": [
    "# Dataset: https://www.kaggle.com/datasets/kritikseth/fruit-and-vegetable-image-recognition\n",
    "\n",
    "base_dir = '/home/saniago/.cache/kagglehub/datasets/kritikseth/fruit-and-vegetable-image-recognition/versions/8'\n",
    "img_size = (224, 224)\n",
    "batch_size = 32"
   ]
  },
  {
   "cell_type": "code",
   "execution_count": 4,
   "metadata": {},
   "outputs": [],
   "source": [
    "train_dir = os.path.join(base_dir, 'train')\n",
    "validation_dir = os.path.join(base_dir, 'validation')\n",
    "test_dir = os.path.join(base_dir, 'test')"
   ]
  },
  {
   "cell_type": "code",
   "execution_count": 5,
   "metadata": {},
   "outputs": [],
   "source": [
    "def num_of_classes(folder_dir, folder_name) :\n",
    "    classes = [class_name for class_name in os.listdir(train_dir)]\n",
    "    print(f'number of classes in {folder_name} folder : {len(classes)}')"
   ]
  },
  {
   "cell_type": "code",
   "execution_count": 6,
   "metadata": {},
   "outputs": [
    {
     "name": "stdout",
     "output_type": "stream",
     "text": [
      "number of classes in train folder : 36\n",
      "number of classes in validation folder : 36\n",
      "number of classes in test folder : 36\n"
     ]
    }
   ],
   "source": [
    "num_of_classes(train_dir, 'train')\n",
    "num_of_classes(validation_dir, 'validation')\n",
    "num_of_classes(test_dir, 'test')"
   ]
  },
  {
   "cell_type": "code",
   "execution_count": 7,
   "metadata": {},
   "outputs": [],
   "source": [
    "classes = [class_name for class_name in os.listdir(train_dir)]\n",
    "def create_df(folder_path) :\n",
    "    all_images = []    \n",
    "    for class_name in classes :\n",
    "        class_path = os.path.join(folder_path, class_name)\n",
    "        all_images.extend([(os.path.join(class_path, file_name), class_name) for file_name in os.listdir(class_path)])\n",
    "    df = pd.DataFrame(all_images, columns=['file_path', 'label'])\n",
    "    return df"
   ]
  },
  {
   "cell_type": "code",
   "execution_count": 8,
   "metadata": {},
   "outputs": [],
   "source": [
    "train_df = create_df(train_dir)\n",
    "validation_df = create_df(validation_dir)\n",
    "test_df = create_df(test_dir)"
   ]
  },
  {
   "cell_type": "code",
   "execution_count": 9,
   "metadata": {},
   "outputs": [
    {
     "name": "stdout",
     "output_type": "stream",
     "text": [
      "Found 3115 validated image filenames belonging to 36 classes.\n"
     ]
    }
   ],
   "source": [
    "# Train generator\n",
    "\n",
    "train_datagen = ImageDataGenerator(\n",
    "    rescale=1./255,                 # Scaled images in range 0 to 1\n",
    "    rotation_range=20,              # Rorate images by factor 20 degree\n",
    "    width_shift_range=0.2,          # Shift images horizontally by up to 20% of their width\n",
    "    height_shift_range=0.2,         # Shift images vertically by up to 20% of their width\n",
    "    zoom_range=0.1,                 # Zoom in and out images by 10%\n",
    "    horizontal_flip=True,           # Allow horizontal flipping\n",
    "    shear_range=0.1,                # shear images by 10% their size\n",
    "    fill_mode='nearest',            # fill unlocated pixels by nearest pixel\n",
    "    )\n",
    "\n",
    "train_generator = train_datagen.flow_from_dataframe(\n",
    "    dataframe=train_df,             # Target data\n",
    "    x_col='file_path',              # X column\n",
    "    y_col='label',                  # y column\n",
    "    target_size=(224, 224),         # Resize images  to\n",
    "    color_mode='rgb',               # Color mode\n",
    "    class_mode='categorical',       # type of model\n",
    "    batch_size=32,                  \n",
    "    shuffle=True,\n",
    "    seed=42,\n",
    "    \n",
    ")"
   ]
  },
  {
   "cell_type": "code",
   "execution_count": 10,
   "metadata": {},
   "outputs": [
    {
     "name": "stdout",
     "output_type": "stream",
     "text": [
      "Found 351 validated image filenames belonging to 36 classes.\n"
     ]
    }
   ],
   "source": [
    "# validation generator\n",
    "\n",
    "validation_datagen = ImageDataGenerator(rescale=1./255,)\n",
    "\n",
    "validation_generator = validation_datagen.flow_from_dataframe(\n",
    "    dataframe=validation_df,\n",
    "    x_col='file_path',\n",
    "    y_col='label',\n",
    "    target_size=(224, 224),\n",
    "    class_mode='categorical',\n",
    "    batch_size=32,\n",
    "    seed=42,\n",
    "    shuffle=False\n",
    ")"
   ]
  },
  {
   "cell_type": "code",
   "execution_count": 11,
   "metadata": {},
   "outputs": [
    {
     "name": "stdout",
     "output_type": "stream",
     "text": [
      "Found 359 validated image filenames belonging to 36 classes.\n"
     ]
    }
   ],
   "source": [
    "# Test generator\n",
    "\n",
    "test_datagen = ImageDataGenerator(rescale=1./255,)\n",
    "\n",
    "test_generator = test_datagen.flow_from_dataframe(\n",
    "    dataframe=test_df,\n",
    "    x_col='file_path',\n",
    "    y_col='label',\n",
    "    target_size=(224, 224),\n",
    "    class_mode='categorical',\n",
    "    batch_size=32,\n",
    "    seed=42,\n",
    "    shuffle=False\n",
    ")"
   ]
  },
  {
   "cell_type": "code",
   "execution_count": 12,
   "metadata": {},
   "outputs": [
    {
     "name": "stderr",
     "output_type": "stream",
     "text": [
      "W0000 00:00:1747422824.366533    6537 gpu_device.cc:2341] Cannot dlopen some GPU libraries. Please make sure the missing libraries mentioned above are installed properly if you would like to use GPU. Follow the guide at https://www.tensorflow.org/install/gpu for how to download and setup the required libraries for your platform.\n",
      "Skipping registering GPU devices...\n"
     ]
    }
   ],
   "source": [
    "base_model = MobileNetV2(input_shape=(224, 224, 3), include_top=False, weights=\"imagenet\")\n",
    "base_model.trainable = False  # Congela el modelo base"
   ]
  },
  {
   "cell_type": "code",
   "execution_count": 13,
   "metadata": {},
   "outputs": [
    {
     "name": "stderr",
     "output_type": "stream",
     "text": [
      "2025-05-16 14:13:44.989638: W external/local_xla/xla/tsl/framework/cpu_allocator_impl.cc:83] Allocation of 64225280 exceeds 10% of free system memory.\n",
      "2025-05-16 14:13:45.004458: W external/local_xla/xla/tsl/framework/cpu_allocator_impl.cc:83] Allocation of 64225280 exceeds 10% of free system memory.\n",
      "2025-05-16 14:13:45.016323: W external/local_xla/xla/tsl/framework/cpu_allocator_impl.cc:83] Allocation of 64225280 exceeds 10% of free system memory.\n"
     ]
    }
   ],
   "source": [
    "model = models.Sequential()\n",
    "model.add(base_model)\n",
    "model.add(layers.Flatten())\n",
    "model.add(layers.Dense(256, activation='relu'))\n",
    "model.add(layers.Dense(128, activation='relu'))\n",
    "model.add(layers.Dense(36, activation='softmax'))"
   ]
  },
  {
   "cell_type": "code",
   "execution_count": 14,
   "metadata": {},
   "outputs": [],
   "source": [
    "from tensorflow.keras import optimizers"
   ]
  },
  {
   "cell_type": "code",
   "execution_count": 15,
   "metadata": {},
   "outputs": [],
   "source": [
    "model.compile(optimizer=optimizers.Adam(learning_rate=0.001),\n",
    "             loss='categorical_crossentropy', \n",
    "             metrics=['accuracy'])"
   ]
  },
  {
   "cell_type": "code",
   "execution_count": 16,
   "metadata": {},
   "outputs": [],
   "source": [
    "# Model CheckPoint\n",
    "checkpoint_cb = ModelCheckpoint('MyModel.keras', save_best_only=True) \n",
    "\n",
    "# Early Stoping\n",
    "earlystop_cb = EarlyStopping(patience=10, restore_best_weights=True)\n",
    "\n",
    "# ReduceLROnPlateau\n",
    "reduce_lr = ReduceLROnPlateau(monitor='val_loss', factor=0.5, patience=3, min_lr=1e-6)"
   ]
  },
  {
   "cell_type": "code",
   "execution_count": 17,
   "metadata": {},
   "outputs": [
    {
     "name": "stderr",
     "output_type": "stream",
     "text": [
      "/home/saniago/Documentos/Projects/DockerBreastCancer/env/lib/python3.12/site-packages/keras/src/trainers/data_adapters/py_dataset_adapter.py:121: UserWarning: Your `PyDataset` class should call `super().__init__(**kwargs)` in its constructor. `**kwargs` can include `workers`, `use_multiprocessing`, `max_queue_size`. Do not pass these arguments to `fit()`, as they will be ignored.\n",
      "  self._warn_if_super_not_called()\n"
     ]
    },
    {
     "name": "stdout",
     "output_type": "stream",
     "text": [
      "Epoch 1/50\n"
     ]
    },
    {
     "name": "stderr",
     "output_type": "stream",
     "text": [
      "2025-05-16 14:13:47.733571: W external/local_xla/xla/tsl/framework/cpu_allocator_impl.cc:83] Allocation of 64225280 exceeds 10% of free system memory.\n",
      "2025-05-16 14:13:49.731241: W external/local_xla/xla/tsl/framework/cpu_allocator_impl.cc:83] Allocation of 17661952 exceeds 10% of free system memory.\n"
     ]
    },
    {
     "name": "stdout",
     "output_type": "stream",
     "text": [
      "\u001b[1m 4/98\u001b[0m \u001b[37m━━━━━━━━━━━━━━━━━━━━\u001b[0m \u001b[1m1:41\u001b[0m 1s/step - accuracy: 0.0332 - loss: 11.4980"
     ]
    },
    {
     "name": "stderr",
     "output_type": "stream",
     "text": [
      "/home/saniago/Documentos/Projects/DockerBreastCancer/env/lib/python3.12/site-packages/PIL/Image.py:1043: UserWarning: Palette images with Transparency expressed in bytes should be converted to RGBA images\n",
      "  warnings.warn(\n"
     ]
    },
    {
     "name": "stdout",
     "output_type": "stream",
     "text": [
      "\u001b[1m98/98\u001b[0m \u001b[32m━━━━━━━━━━━━━━━━━━━━\u001b[0m\u001b[37m\u001b[0m \u001b[1m0s\u001b[0m 1s/step - accuracy: 0.3009 - loss: 6.5146"
     ]
    },
    {
     "name": "stderr",
     "output_type": "stream",
     "text": [
      "/home/saniago/Documentos/Projects/DockerBreastCancer/env/lib/python3.12/site-packages/keras/src/trainers/data_adapters/py_dataset_adapter.py:121: UserWarning: Your `PyDataset` class should call `super().__init__(**kwargs)` in its constructor. `**kwargs` can include `workers`, `use_multiprocessing`, `max_queue_size`. Do not pass these arguments to `fit()`, as they will be ignored.\n",
      "  self._warn_if_super_not_called()\n"
     ]
    },
    {
     "name": "stdout",
     "output_type": "stream",
     "text": [
      "\u001b[1m98/98\u001b[0m \u001b[32m━━━━━━━━━━━━━━━━━━━━\u001b[0m\u001b[37m\u001b[0m \u001b[1m123s\u001b[0m 1s/step - accuracy: 0.3025 - loss: 6.4836 - val_accuracy: 0.8148 - val_loss: 0.5951 - learning_rate: 0.0010\n",
      "Epoch 2/50\n",
      "\u001b[1m98/98\u001b[0m \u001b[32m━━━━━━━━━━━━━━━━━━━━\u001b[0m\u001b[37m\u001b[0m \u001b[1m116s\u001b[0m 1s/step - accuracy: 0.7248 - loss: 1.0592 - val_accuracy: 0.8462 - val_loss: 0.4806 - learning_rate: 0.0010\n",
      "Epoch 3/50\n",
      "\u001b[1m98/98\u001b[0m \u001b[32m━━━━━━━━━━━━━━━━━━━━\u001b[0m\u001b[37m\u001b[0m \u001b[1m111s\u001b[0m 1s/step - accuracy: 0.7615 - loss: 0.8571 - val_accuracy: 0.8547 - val_loss: 0.4514 - learning_rate: 0.0010\n",
      "Epoch 4/50\n",
      "\u001b[1m98/98\u001b[0m \u001b[32m━━━━━━━━━━━━━━━━━━━━\u001b[0m\u001b[37m\u001b[0m \u001b[1m111s\u001b[0m 1s/step - accuracy: 0.7886 - loss: 0.7035 - val_accuracy: 0.8946 - val_loss: 0.3497 - learning_rate: 0.0010\n",
      "Epoch 5/50\n",
      "\u001b[1m98/98\u001b[0m \u001b[32m━━━━━━━━━━━━━━━━━━━━\u001b[0m\u001b[37m\u001b[0m \u001b[1m115s\u001b[0m 1s/step - accuracy: 0.8066 - loss: 0.6512 - val_accuracy: 0.9060 - val_loss: 0.2936 - learning_rate: 0.0010\n",
      "Epoch 6/50\n",
      "\u001b[1m98/98\u001b[0m \u001b[32m━━━━━━━━━━━━━━━━━━━━\u001b[0m\u001b[37m\u001b[0m \u001b[1m117s\u001b[0m 1s/step - accuracy: 0.8299 - loss: 0.5332 - val_accuracy: 0.9031 - val_loss: 0.3364 - learning_rate: 0.0010\n",
      "Epoch 7/50\n",
      "\u001b[1m98/98\u001b[0m \u001b[32m━━━━━━━━━━━━━━━━━━━━\u001b[0m\u001b[37m\u001b[0m \u001b[1m116s\u001b[0m 1s/step - accuracy: 0.8412 - loss: 0.4819 - val_accuracy: 0.8661 - val_loss: 0.4101 - learning_rate: 0.0010\n",
      "Epoch 8/50\n",
      "\u001b[1m98/98\u001b[0m \u001b[32m━━━━━━━━━━━━━━━━━━━━\u001b[0m\u001b[37m\u001b[0m \u001b[1m115s\u001b[0m 1s/step - accuracy: 0.8258 - loss: 0.5809 - val_accuracy: 0.9003 - val_loss: 0.3148 - learning_rate: 0.0010\n",
      "Epoch 9/50\n",
      "\u001b[1m98/98\u001b[0m \u001b[32m━━━━━━━━━━━━━━━━━━━━\u001b[0m\u001b[37m\u001b[0m \u001b[1m116s\u001b[0m 1s/step - accuracy: 0.8879 - loss: 0.3592 - val_accuracy: 0.9487 - val_loss: 0.2112 - learning_rate: 5.0000e-04\n",
      "Epoch 10/50\n",
      "\u001b[1m98/98\u001b[0m \u001b[32m━━━━━━━━━━━━━━━━━━━━\u001b[0m\u001b[37m\u001b[0m \u001b[1m121s\u001b[0m 1s/step - accuracy: 0.9193 - loss: 0.2339 - val_accuracy: 0.9544 - val_loss: 0.1757 - learning_rate: 5.0000e-04\n",
      "Epoch 11/50\n",
      "\u001b[1m98/98\u001b[0m \u001b[32m━━━━━━━━━━━━━━━━━━━━\u001b[0m\u001b[37m\u001b[0m \u001b[1m118s\u001b[0m 1s/step - accuracy: 0.9108 - loss: 0.2336 - val_accuracy: 0.9430 - val_loss: 0.1903 - learning_rate: 5.0000e-04\n",
      "Epoch 12/50\n",
      "\u001b[1m98/98\u001b[0m \u001b[32m━━━━━━━━━━━━━━━━━━━━\u001b[0m\u001b[37m\u001b[0m \u001b[1m117s\u001b[0m 1s/step - accuracy: 0.9324 - loss: 0.1987 - val_accuracy: 0.9373 - val_loss: 0.1759 - learning_rate: 5.0000e-04\n",
      "Epoch 13/50\n",
      "\u001b[1m98/98\u001b[0m \u001b[32m━━━━━━━━━━━━━━━━━━━━\u001b[0m\u001b[37m\u001b[0m \u001b[1m120s\u001b[0m 1s/step - accuracy: 0.9389 - loss: 0.1649 - val_accuracy: 0.9459 - val_loss: 0.1886 - learning_rate: 5.0000e-04\n",
      "Epoch 14/50\n",
      "\u001b[1m98/98\u001b[0m \u001b[32m━━━━━━━━━━━━━━━━━━━━\u001b[0m\u001b[37m\u001b[0m \u001b[1m125s\u001b[0m 1s/step - accuracy: 0.9447 - loss: 0.1416 - val_accuracy: 0.9573 - val_loss: 0.1663 - learning_rate: 2.5000e-04\n",
      "Epoch 15/50\n",
      "\u001b[1m98/98\u001b[0m \u001b[32m━━━━━━━━━━━━━━━━━━━━\u001b[0m\u001b[37m\u001b[0m \u001b[1m120s\u001b[0m 1s/step - accuracy: 0.9579 - loss: 0.1246 - val_accuracy: 0.9516 - val_loss: 0.1829 - learning_rate: 2.5000e-04\n",
      "Epoch 16/50\n",
      "\u001b[1m98/98\u001b[0m \u001b[32m━━━━━━━━━━━━━━━━━━━━\u001b[0m\u001b[37m\u001b[0m \u001b[1m118s\u001b[0m 1s/step - accuracy: 0.9574 - loss: 0.1116 - val_accuracy: 0.9573 - val_loss: 0.1773 - learning_rate: 2.5000e-04\n",
      "Epoch 17/50\n",
      "\u001b[1m98/98\u001b[0m \u001b[32m━━━━━━━━━━━━━━━━━━━━\u001b[0m\u001b[37m\u001b[0m \u001b[1m126s\u001b[0m 1s/step - accuracy: 0.9550 - loss: 0.1280 - val_accuracy: 0.9630 - val_loss: 0.1574 - learning_rate: 2.5000e-04\n",
      "Epoch 18/50\n",
      "\u001b[1m98/98\u001b[0m \u001b[32m━━━━━━━━━━━━━━━━━━━━\u001b[0m\u001b[37m\u001b[0m \u001b[1m118s\u001b[0m 1s/step - accuracy: 0.9696 - loss: 0.0973 - val_accuracy: 0.9601 - val_loss: 0.1726 - learning_rate: 2.5000e-04\n",
      "Epoch 19/50\n",
      "\u001b[1m98/98\u001b[0m \u001b[32m━━━━━━━━━━━━━━━━━━━━\u001b[0m\u001b[37m\u001b[0m \u001b[1m117s\u001b[0m 1s/step - accuracy: 0.9722 - loss: 0.0924 - val_accuracy: 0.9658 - val_loss: 0.1775 - learning_rate: 2.5000e-04\n",
      "Epoch 20/50\n",
      "\u001b[1m98/98\u001b[0m \u001b[32m━━━━━━━━━━━━━━━━━━━━\u001b[0m\u001b[37m\u001b[0m \u001b[1m118s\u001b[0m 1s/step - accuracy: 0.9635 - loss: 0.1020 - val_accuracy: 0.9687 - val_loss: 0.1879 - learning_rate: 2.5000e-04\n",
      "Epoch 21/50\n",
      "\u001b[1m98/98\u001b[0m \u001b[32m━━━━━━━━━━━━━━━━━━━━\u001b[0m\u001b[37m\u001b[0m \u001b[1m118s\u001b[0m 1s/step - accuracy: 0.9645 - loss: 0.0948 - val_accuracy: 0.9687 - val_loss: 0.1831 - learning_rate: 1.2500e-04\n",
      "Epoch 22/50\n",
      "\u001b[1m98/98\u001b[0m \u001b[32m━━━━━━━━━━━━━━━━━━━━\u001b[0m\u001b[37m\u001b[0m \u001b[1m126s\u001b[0m 1s/step - accuracy: 0.9596 - loss: 0.1053 - val_accuracy: 0.9630 - val_loss: 0.1862 - learning_rate: 1.2500e-04\n",
      "Epoch 23/50\n",
      "\u001b[1m98/98\u001b[0m \u001b[32m━━━━━━━━━━━━━━━━━━━━\u001b[0m\u001b[37m\u001b[0m \u001b[1m123s\u001b[0m 1s/step - accuracy: 0.9769 - loss: 0.0700 - val_accuracy: 0.9715 - val_loss: 0.1614 - learning_rate: 1.2500e-04\n",
      "Epoch 24/50\n",
      "\u001b[1m98/98\u001b[0m \u001b[32m━━━━━━━━━━━━━━━━━━━━\u001b[0m\u001b[37m\u001b[0m \u001b[1m132s\u001b[0m 1s/step - accuracy: 0.9714 - loss: 0.0819 - val_accuracy: 0.9658 - val_loss: 0.1585 - learning_rate: 6.2500e-05\n",
      "Epoch 25/50\n",
      "\u001b[1m98/98\u001b[0m \u001b[32m━━━━━━━━━━━━━━━━━━━━\u001b[0m\u001b[37m\u001b[0m \u001b[1m131s\u001b[0m 1s/step - accuracy: 0.9768 - loss: 0.0654 - val_accuracy: 0.9687 - val_loss: 0.1607 - learning_rate: 6.2500e-05\n",
      "Epoch 26/50\n",
      "\u001b[1m98/98\u001b[0m \u001b[32m━━━━━━━━━━━━━━━━━━━━\u001b[0m\u001b[37m\u001b[0m \u001b[1m131s\u001b[0m 1s/step - accuracy: 0.9695 - loss: 0.0875 - val_accuracy: 0.9658 - val_loss: 0.1600 - learning_rate: 6.2500e-05\n",
      "Epoch 27/50\n",
      "\u001b[1m98/98\u001b[0m \u001b[32m━━━━━━━━━━━━━━━━━━━━\u001b[0m\u001b[37m\u001b[0m \u001b[1m132s\u001b[0m 1s/step - accuracy: 0.9794 - loss: 0.0580 - val_accuracy: 0.9687 - val_loss: 0.1564 - learning_rate: 3.1250e-05\n",
      "Epoch 28/50\n",
      "\u001b[1m98/98\u001b[0m \u001b[32m━━━━━━━━━━━━━━━━━━━━\u001b[0m\u001b[37m\u001b[0m \u001b[1m133s\u001b[0m 1s/step - accuracy: 0.9776 - loss: 0.0723 - val_accuracy: 0.9687 - val_loss: 0.1591 - learning_rate: 3.1250e-05\n",
      "Epoch 29/50\n",
      "\u001b[1m98/98\u001b[0m \u001b[32m━━━━━━━━━━━━━━━━━━━━\u001b[0m\u001b[37m\u001b[0m \u001b[1m131s\u001b[0m 1s/step - accuracy: 0.9802 - loss: 0.0554 - val_accuracy: 0.9687 - val_loss: 0.1584 - learning_rate: 3.1250e-05\n",
      "Epoch 30/50\n",
      "\u001b[1m98/98\u001b[0m \u001b[32m━━━━━━━━━━━━━━━━━━━━\u001b[0m\u001b[37m\u001b[0m \u001b[1m132s\u001b[0m 1s/step - accuracy: 0.9781 - loss: 0.0636 - val_accuracy: 0.9687 - val_loss: 0.1584 - learning_rate: 3.1250e-05\n",
      "Epoch 31/50\n",
      "\u001b[1m98/98\u001b[0m \u001b[32m━━━━━━━━━━━━━━━━━━━━\u001b[0m\u001b[37m\u001b[0m \u001b[1m133s\u001b[0m 1s/step - accuracy: 0.9793 - loss: 0.0550 - val_accuracy: 0.9715 - val_loss: 0.1558 - learning_rate: 1.5625e-05\n",
      "Epoch 32/50\n",
      "\u001b[1m98/98\u001b[0m \u001b[32m━━━━━━━━━━━━━━━━━━━━\u001b[0m\u001b[37m\u001b[0m \u001b[1m133s\u001b[0m 1s/step - accuracy: 0.9744 - loss: 0.0662 - val_accuracy: 0.9715 - val_loss: 0.1596 - learning_rate: 1.5625e-05\n",
      "Epoch 33/50\n",
      "\u001b[1m98/98\u001b[0m \u001b[32m━━━━━━━━━━━━━━━━━━━━\u001b[0m\u001b[37m\u001b[0m \u001b[1m131s\u001b[0m 1s/step - accuracy: 0.9814 - loss: 0.0520 - val_accuracy: 0.9687 - val_loss: 0.1618 - learning_rate: 1.5625e-05\n",
      "Epoch 34/50\n",
      "\u001b[1m98/98\u001b[0m \u001b[32m━━━━━━━━━━━━━━━━━━━━\u001b[0m\u001b[37m\u001b[0m \u001b[1m131s\u001b[0m 1s/step - accuracy: 0.9746 - loss: 0.0677 - val_accuracy: 0.9687 - val_loss: 0.1620 - learning_rate: 1.5625e-05\n",
      "Epoch 35/50\n",
      "\u001b[1m98/98\u001b[0m \u001b[32m━━━━━━━━━━━━━━━━━━━━\u001b[0m\u001b[37m\u001b[0m \u001b[1m131s\u001b[0m 1s/step - accuracy: 0.9769 - loss: 0.0743 - val_accuracy: 0.9687 - val_loss: 0.1595 - learning_rate: 7.8125e-06\n",
      "Epoch 36/50\n",
      "\u001b[1m98/98\u001b[0m \u001b[32m━━━━━━━━━━━━━━━━━━━━\u001b[0m\u001b[37m\u001b[0m \u001b[1m130s\u001b[0m 1s/step - accuracy: 0.9760 - loss: 0.0651 - val_accuracy: 0.9687 - val_loss: 0.1585 - learning_rate: 7.8125e-06\n",
      "Epoch 37/50\n",
      "\u001b[1m98/98\u001b[0m \u001b[32m━━━━━━━━━━━━━━━━━━━━\u001b[0m\u001b[37m\u001b[0m \u001b[1m131s\u001b[0m 1s/step - accuracy: 0.9719 - loss: 0.0736 - val_accuracy: 0.9658 - val_loss: 0.1586 - learning_rate: 7.8125e-06\n",
      "Epoch 38/50\n",
      "\u001b[1m98/98\u001b[0m \u001b[32m━━━━━━━━━━━━━━━━━━━━\u001b[0m\u001b[37m\u001b[0m \u001b[1m131s\u001b[0m 1s/step - accuracy: 0.9806 - loss: 0.0597 - val_accuracy: 0.9687 - val_loss: 0.1587 - learning_rate: 3.9063e-06\n",
      "Epoch 39/50\n",
      "\u001b[1m98/98\u001b[0m \u001b[32m━━━━━━━━━━━━━━━━━━━━\u001b[0m\u001b[37m\u001b[0m \u001b[1m132s\u001b[0m 1s/step - accuracy: 0.9783 - loss: 0.0607 - val_accuracy: 0.9658 - val_loss: 0.1593 - learning_rate: 3.9063e-06\n",
      "Epoch 40/50\n",
      "\u001b[1m98/98\u001b[0m \u001b[32m━━━━━━━━━━━━━━━━━━━━\u001b[0m\u001b[37m\u001b[0m \u001b[1m133s\u001b[0m 1s/step - accuracy: 0.9754 - loss: 0.0654 - val_accuracy: 0.9658 - val_loss: 0.1586 - learning_rate: 3.9063e-06\n",
      "Epoch 41/50\n",
      "\u001b[1m98/98\u001b[0m \u001b[32m━━━━━━━━━━━━━━━━━━━━\u001b[0m\u001b[37m\u001b[0m \u001b[1m131s\u001b[0m 1s/step - accuracy: 0.9765 - loss: 0.0600 - val_accuracy: 0.9658 - val_loss: 0.1588 - learning_rate: 1.9531e-06\n"
     ]
    }
   ],
   "source": [
    "# Entrenar el modelo\n",
    "history = model.fit(\n",
    "    train_generator,\n",
    "    epochs=50,\n",
    "    validation_data=validation_generator,\n",
    "    callbacks=[checkpoint_cb, earlystop_cb, reduce_lr]\n",
    ")"
   ]
  },
  {
   "cell_type": "code",
   "execution_count": 20,
   "metadata": {},
   "outputs": [
    {
     "name": "stdout",
     "output_type": "stream",
     "text": [
      "\u001b[1m12/12\u001b[0m \u001b[32m━━━━━━━━━━━━━━━━━━━━\u001b[0m\u001b[37m\u001b[0m \u001b[1m11s\u001b[0m 906ms/step - accuracy: 0.9821 - loss: 0.0870\n",
      "Pérdida en el conjunto de prueba: 0.15247102081775665\n",
      "Precisión en el conjunto de prueba: 0.9721448421478271\n"
     ]
    }
   ],
   "source": [
    "loss, accuracy = model.evaluate(test_generator)\n",
    "print(f\"Pérdida en el conjunto de prueba: {loss}\")\n",
    "print(f\"Precisión en el conjunto de prueba: {accuracy}\")"
   ]
  },
  {
   "cell_type": "code",
   "execution_count": 23,
   "metadata": {},
   "outputs": [],
   "source": [
    "from sklearn.metrics import classification_report"
   ]
  },
  {
   "cell_type": "code",
   "execution_count": 24,
   "metadata": {},
   "outputs": [
    {
     "name": "stdout",
     "output_type": "stream",
     "text": [
      "\u001b[1m12/12\u001b[0m \u001b[32m━━━━━━━━━━━━━━━━━━━━\u001b[0m\u001b[37m\u001b[0m \u001b[1m13s\u001b[0m 968ms/step\n",
      "              precision    recall  f1-score   support\n",
      "\n",
      "           0       1.00      0.90      0.95        10\n",
      "           1       1.00      0.78      0.88         9\n",
      "           2       1.00      1.00      1.00        10\n",
      "           3       1.00      1.00      1.00        10\n",
      "           4       1.00      1.00      1.00        10\n",
      "           5       1.00      1.00      1.00        10\n",
      "           6       1.00      0.90      0.95        10\n",
      "           7       1.00      1.00      1.00        10\n",
      "           8       0.77      1.00      0.87        10\n",
      "           9       0.88      0.70      0.78        10\n",
      "          10       1.00      1.00      1.00        10\n",
      "          11       1.00      1.00      1.00        10\n",
      "          12       1.00      1.00      1.00        10\n",
      "          13       1.00      1.00      1.00        10\n",
      "          14       1.00      1.00      1.00        10\n",
      "          15       0.91      1.00      0.95        10\n",
      "          16       1.00      1.00      1.00        10\n",
      "          17       1.00      1.00      1.00        10\n",
      "          18       1.00      1.00      1.00        10\n",
      "          19       1.00      1.00      1.00        10\n",
      "          20       1.00      1.00      1.00        10\n",
      "          21       0.91      1.00      0.95        10\n",
      "          22       1.00      1.00      1.00        10\n",
      "          23       1.00      1.00      1.00        10\n",
      "          24       1.00      0.90      0.95        10\n",
      "          25       1.00      1.00      1.00        10\n",
      "          26       1.00      1.00      1.00        10\n",
      "          27       1.00      0.90      0.95        10\n",
      "          28       1.00      1.00      1.00        10\n",
      "          29       0.91      1.00      0.95        10\n",
      "          30       1.00      1.00      1.00        10\n",
      "          31       0.75      0.90      0.82        10\n",
      "          32       1.00      1.00      1.00        10\n",
      "          33       1.00      1.00      1.00        10\n",
      "          34       1.00      1.00      1.00        10\n",
      "          35       1.00      1.00      1.00        10\n",
      "\n",
      "    accuracy                           0.97       359\n",
      "   macro avg       0.98      0.97      0.97       359\n",
      "weighted avg       0.98      0.97      0.97       359\n",
      "\n"
     ]
    }
   ],
   "source": [
    "print(classification_report(test_generator.classes, np.argmax(model.predict(test_generator), axis=-1)))"
   ]
  },
  {
   "cell_type": "code",
   "execution_count": 25,
   "metadata": {},
   "outputs": [
    {
     "data": {
      "text/html": [
       "<div>\n",
       "<style scoped>\n",
       "    .dataframe tbody tr th:only-of-type {\n",
       "        vertical-align: middle;\n",
       "    }\n",
       "\n",
       "    .dataframe tbody tr th {\n",
       "        vertical-align: top;\n",
       "    }\n",
       "\n",
       "    .dataframe thead th {\n",
       "        text-align: right;\n",
       "    }\n",
       "</style>\n",
       "<table border=\"1\" class=\"dataframe\">\n",
       "  <thead>\n",
       "    <tr style=\"text-align: right;\">\n",
       "      <th></th>\n",
       "      <th>accuracy</th>\n",
       "      <th>loss</th>\n",
       "      <th>val_accuracy</th>\n",
       "      <th>val_loss</th>\n",
       "      <th>learning_rate</th>\n",
       "    </tr>\n",
       "  </thead>\n",
       "  <tbody>\n",
       "    <tr>\n",
       "      <th>36</th>\n",
       "      <td>0.976244</td>\n",
       "      <td>0.063113</td>\n",
       "      <td>0.965812</td>\n",
       "      <td>0.158610</td>\n",
       "      <td>0.000008</td>\n",
       "    </tr>\n",
       "    <tr>\n",
       "      <th>37</th>\n",
       "      <td>0.978170</td>\n",
       "      <td>0.063713</td>\n",
       "      <td>0.968661</td>\n",
       "      <td>0.158698</td>\n",
       "      <td>0.000004</td>\n",
       "    </tr>\n",
       "    <tr>\n",
       "      <th>38</th>\n",
       "      <td>0.976886</td>\n",
       "      <td>0.061637</td>\n",
       "      <td>0.965812</td>\n",
       "      <td>0.159295</td>\n",
       "      <td>0.000004</td>\n",
       "    </tr>\n",
       "    <tr>\n",
       "      <th>39</th>\n",
       "      <td>0.977528</td>\n",
       "      <td>0.063719</td>\n",
       "      <td>0.965812</td>\n",
       "      <td>0.158556</td>\n",
       "      <td>0.000004</td>\n",
       "    </tr>\n",
       "    <tr>\n",
       "      <th>40</th>\n",
       "      <td>0.981380</td>\n",
       "      <td>0.056122</td>\n",
       "      <td>0.965812</td>\n",
       "      <td>0.158782</td>\n",
       "      <td>0.000002</td>\n",
       "    </tr>\n",
       "  </tbody>\n",
       "</table>\n",
       "</div>"
      ],
      "text/plain": [
       "    accuracy      loss  val_accuracy  val_loss  learning_rate\n",
       "36  0.976244  0.063113      0.965812  0.158610       0.000008\n",
       "37  0.978170  0.063713      0.968661  0.158698       0.000004\n",
       "38  0.976886  0.061637      0.965812  0.159295       0.000004\n",
       "39  0.977528  0.063719      0.965812  0.158556       0.000004\n",
       "40  0.981380  0.056122      0.965812  0.158782       0.000002"
      ]
     },
     "execution_count": 25,
     "metadata": {},
     "output_type": "execute_result"
    }
   ],
   "source": [
    "# Convert resutl of training to a DataFrame\n",
    "result_df = pd.DataFrame(history.history)\n",
    "result_df.tail()"
   ]
  },
  {
   "cell_type": "code",
   "execution_count": 26,
   "metadata": {},
   "outputs": [
    {
     "data": {
      "image/png": "[encoded data removed]",
      "text/plain": [
       "<Figure size 1500x1200 with 3 Axes>"
      ]
     },
     "metadata": {},
     "output_type": "display_data"
    }
   ],
   "source": [
    "x = np.arange(len(result_df))\n",
    "fig, ax = plt.subplots(3, 1, figsize=(15, 12))\n",
    "\n",
    "ax[0].plot(x, result_df['accuracy'], label='accuracy')\n",
    "ax[0].plot(x, result_df['val_accuracy'], label='val_accuracy')\n",
    "ax[0].legend(loc='best')\n",
    "ax[0].grid(True)\n",
    "\n",
    "ax[1].plot(x, result_df['loss'], label='loss')\n",
    "ax[1].plot(x, result_df['val_loss'], label='val_loss')\n",
    "ax[1].legend(loc='best')\n",
    "ax[1].grid(True)\n",
    "\n",
    "ax[2].plot(x, result_df['learning_rate'], label='learning_rate')\n",
    "ax[2].legend(loc='best')\n",
    "ax[2].grid(True)\n",
    "\n",
    "plt.show()"
   ]
  },
  {
   "cell_type": "code",
   "execution_count": 28,
   "metadata": {},
   "outputs": [],
   "source": [
    "best_model = models.load_model('MyModel.keras')"
   ]
  },
  {
   "cell_type": "code",
   "execution_count": 29,
   "metadata": {},
   "outputs": [
    {
     "name": "stdout",
     "output_type": "stream",
     "text": [
      "\u001b[1m12/12\u001b[0m \u001b[32m━━━━━━━━━━━━━━━━━━━━\u001b[0m\u001b[37m\u001b[0m \u001b[1m13s\u001b[0m 936ms/step - accuracy: 0.9821 - loss: 0.0870\n",
      "Test Loss: 0.15247102081775665\n",
      "Test Accuracy: 0.9721448421478271\n"
     ]
    }
   ],
   "source": [
    "# Evaluate the model on the test data\n",
    "test_loss, test_accuracy = best_model.evaluate(test_generator)\n",
    "\n",
    "print(\"Test Loss:\", test_loss)\n",
    "print(\"Test Accuracy:\", test_accuracy)"
   ]
  },
  {
   "cell_type": "markdown",
   "metadata": {},
   "source": [
    "### Algunas pruebas"
   ]
  },
  {
   "cell_type": "code",
   "execution_count": 39,
   "metadata": {},
   "outputs": [
    {
     "name": "stdout",
     "output_type": "stream",
     "text": [
      "\u001b[1m1/1\u001b[0m \u001b[32m━━━━━━━━━━━━━━━━━━━━\u001b[0m\u001b[37m\u001b[0m \u001b[1m0s\u001b[0m 60ms/step\n",
      "La imagen pertenece a la clase: apple\n"
     ]
    }
   ],
   "source": [
    "import numpy as np\n",
    "from PIL import Image\n",
    "\n",
    "# Probar el modelo con una imagen\n",
    "image_path = './09.jpg'\n",
    "img = Image.open(image_path).convert(\"RGB\")\n",
    "img = img.resize((224, 224))\n",
    "img_array = np.array(img, dtype=np.float32)\n",
    "img_array = np.expand_dims(img_array, axis=0)  # Añadir dimensión para batch\n",
    "img_array /= 255.0  # Normalizar entre 0 y 1\n",
    "\n",
    "predictions = best_model.predict(img_array)\n",
    "\n",
    "# Decodificar la predicción\n",
    "class_labels = train_generator.class_indices\n",
    "class_labels = {v: k for k, v in class_labels.items()}  # Invertir el diccionario\n",
    "predicted_class_index = np.argmax(predictions[0])      # Índice de la clase con mayor probabilidad\n",
    "predicted_class = class_labels[predicted_class_index]  # Nombre de la clase\n",
    "\n",
    "print(f\"La imagen pertenece a la clase: {predicted_class}\")\n"
   ]
  }
 ],
 "metadata": {
  "kernelspec": {
   "display_name": "env",
   "language": "python",
   "name": "python3"
  },
  "language_info": {
   "codemirror_mode": {
    "name": "ipython",
    "version": 3
   },
   "file_extension": ".py",
   "mimetype": "text/x-python",
   "name": "python",
   "nbconvert_exporter": "python",
   "pygments_lexer": "ipython3",
   "version": "3.12.3"
  }
 },
 "nbformat": 4,
 "nbformat_minor": 2
}
